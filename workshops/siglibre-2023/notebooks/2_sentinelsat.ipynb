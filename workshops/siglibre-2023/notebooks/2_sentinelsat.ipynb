{
 "cells": [
  {
   "cell_type": "markdown",
   "id": "816fff74",
   "metadata": {},
   "source": [
    "# Sentinel data"
   ]
  },
  {
   "cell_type": "markdown",
   "id": "7077bed0",
   "metadata": {},
   "source": [
    "![](https://www.defensa.com/foto-articulo-fichero_22889_20200623.jpg,800,700,0.jpg)"
   ]
  },
  {
   "cell_type": "code",
   "execution_count": 14,
   "id": "37c437bf",
   "metadata": {},
   "outputs": [],
   "source": [
    "import sys\n",
    "import os"
   ]
  },
  {
   "cell_type": "code",
   "execution_count": 1,
   "id": "8d8b67bc",
   "metadata": {},
   "outputs": [],
   "source": [
    "import folium\n",
    "import geopandas as gpd\n",
    "from sentinelsat.sentinel import SentinelAPI\n",
    "import rasterio \n",
    "import matplotlib.pyplot as plt\n",
    "from rasterio import plot\n",
    "from rasterio.plot import show\n",
    "from rasterio.mask import mask"
   ]
  },
  {
   "cell_type": "markdown",
   "id": "5fc5258c",
   "metadata": {},
   "source": [
    "https://old-monk.medium.com/a-precise-guide-to-investigate-sentinel-2-data-in-python-downloading-visualizing-2cc8d9d60021"
   ]
  },
  {
   "cell_type": "code",
   "execution_count": 2,
   "id": "1fab0f12",
   "metadata": {},
   "outputs": [
    {
     "ename": "ModuleNotFoundError",
     "evalue": "No module named 'osgeo'",
     "output_type": "error",
     "traceback": [
      "\u001b[0;31m---------------------------------------------------------------------------\u001b[0m",
      "\u001b[0;31mModuleNotFoundError\u001b[0m                       Traceback (most recent call last)",
      "Cell \u001b[0;32mIn[2], line 1\u001b[0m\n\u001b[0;32m----> 1\u001b[0m \u001b[38;5;28;01mfrom\u001b[39;00m \u001b[38;5;21;01mosgeo\u001b[39;00m \u001b[38;5;28;01mimport\u001b[39;00m gdal\n",
      "\u001b[0;31mModuleNotFoundError\u001b[0m: No module named 'osgeo'"
     ]
    }
   ],
   "source": [
    "from osgeo import gdal"
   ]
  },
  {
   "cell_type": "markdown",
   "id": "9fc771e3",
   "metadata": {},
   "source": [
    "### Pamplona"
   ]
  },
  {
   "cell_type": "code",
   "execution_count": 4,
   "id": "32de25bf",
   "metadata": {},
   "outputs": [],
   "source": [
    "name='pamplona'\n",
    "latitude=42.81349804717014\n",
    "longitude=-1.6453010275390108\n",
    "zoom=13"
   ]
  },
  {
   "cell_type": "code",
   "execution_count": 5,
   "id": "d388907b",
   "metadata": {
    "scrolled": true
   },
   "outputs": [
    {
     "name": "stdout",
     "output_type": "stream",
     "text": [
      "http://geojson.io/#map=13/42.81349804717014/-1.6453010275390108\n"
     ]
    }
   ],
   "source": [
    "print(f'http://geojson.io/#map={zoom}/{latitude}/{longitude}')"
   ]
  },
  {
   "cell_type": "code",
   "execution_count": 7,
   "id": "39e2b30d",
   "metadata": {},
   "outputs": [
    {
     "data": {
      "text/html": [
       "<div style=\"width:100%;\"><div style=\"position:relative;width:100%;height:0;padding-bottom:60%;\"><span style=\"color:#565656\">Make this Notebook Trusted to load map: File -> Trust Notebook</span><iframe srcdoc=\"&lt;!DOCTYPE html&gt;\n",
       "&lt;html&gt;\n",
       "&lt;head&gt;\n",
       "    \n",
       "    &lt;meta http-equiv=&quot;content-type&quot; content=&quot;text/html; charset=UTF-8&quot; /&gt;\n",
       "    \n",
       "        &lt;script&gt;\n",
       "            L_NO_TOUCH = false;\n",
       "            L_DISABLE_3D = false;\n",
       "        &lt;/script&gt;\n",
       "    \n",
       "    &lt;style&gt;html, body {width: 100%;height: 100%;margin: 0;padding: 0;}&lt;/style&gt;\n",
       "    &lt;style&gt;#map {position:absolute;top:0;bottom:0;right:0;left:0;}&lt;/style&gt;\n",
       "    &lt;script src=&quot;https://cdn.jsdelivr.net/npm/leaflet@1.9.3/dist/leaflet.js&quot;&gt;&lt;/script&gt;\n",
       "    &lt;script src=&quot;https://code.jquery.com/jquery-1.12.4.min.js&quot;&gt;&lt;/script&gt;\n",
       "    &lt;script src=&quot;https://cdn.jsdelivr.net/npm/bootstrap@5.2.2/dist/js/bootstrap.bundle.min.js&quot;&gt;&lt;/script&gt;\n",
       "    &lt;script src=&quot;https://cdnjs.cloudflare.com/ajax/libs/Leaflet.awesome-markers/2.0.2/leaflet.awesome-markers.js&quot;&gt;&lt;/script&gt;\n",
       "    &lt;link rel=&quot;stylesheet&quot; href=&quot;https://cdn.jsdelivr.net/npm/leaflet@1.9.3/dist/leaflet.css&quot;/&gt;\n",
       "    &lt;link rel=&quot;stylesheet&quot; href=&quot;https://cdn.jsdelivr.net/npm/bootstrap@5.2.2/dist/css/bootstrap.min.css&quot;/&gt;\n",
       "    &lt;link rel=&quot;stylesheet&quot; href=&quot;https://netdna.bootstrapcdn.com/bootstrap/3.0.0/css/bootstrap.min.css&quot;/&gt;\n",
       "    &lt;link rel=&quot;stylesheet&quot; href=&quot;https://cdn.jsdelivr.net/npm/@fortawesome/fontawesome-free@6.2.0/css/all.min.css&quot;/&gt;\n",
       "    &lt;link rel=&quot;stylesheet&quot; href=&quot;https://cdnjs.cloudflare.com/ajax/libs/Leaflet.awesome-markers/2.0.2/leaflet.awesome-markers.css&quot;/&gt;\n",
       "    &lt;link rel=&quot;stylesheet&quot; href=&quot;https://cdn.jsdelivr.net/gh/python-visualization/folium/folium/templates/leaflet.awesome.rotate.min.css&quot;/&gt;\n",
       "    \n",
       "            &lt;meta name=&quot;viewport&quot; content=&quot;width=device-width,\n",
       "                initial-scale=1.0, maximum-scale=1.0, user-scalable=no&quot; /&gt;\n",
       "            &lt;style&gt;\n",
       "                #map_c350c5ff8d902eb41952229318b23dd1 {\n",
       "                    position: relative;\n",
       "                    width: 100.0%;\n",
       "                    height: 100.0%;\n",
       "                    left: 0.0%;\n",
       "                    top: 0.0%;\n",
       "                }\n",
       "                .leaflet-container { font-size: 1rem; }\n",
       "            &lt;/style&gt;\n",
       "        \n",
       "&lt;/head&gt;\n",
       "&lt;body&gt;\n",
       "    \n",
       "    \n",
       "            &lt;div class=&quot;folium-map&quot; id=&quot;map_c350c5ff8d902eb41952229318b23dd1&quot; &gt;&lt;/div&gt;\n",
       "        \n",
       "&lt;/body&gt;\n",
       "&lt;script&gt;\n",
       "    \n",
       "    \n",
       "            var map_c350c5ff8d902eb41952229318b23dd1 = L.map(\n",
       "                &quot;map_c350c5ff8d902eb41952229318b23dd1&quot;,\n",
       "                {\n",
       "                    center: [42.81349804717014, -1.6453010275390108],\n",
       "                    crs: L.CRS.EPSG3857,\n",
       "                    zoom: 13,\n",
       "                    zoomControl: true,\n",
       "                    preferCanvas: false,\n",
       "                }\n",
       "            );\n",
       "\n",
       "            \n",
       "\n",
       "        \n",
       "    \n",
       "            var tile_layer_2ad14b03a34af6a0836b5585456a0bf9 = L.tileLayer(\n",
       "                &quot;https://{s}.tile.openstreetmap.org/{z}/{x}/{y}.png&quot;,\n",
       "                {&quot;attribution&quot;: &quot;Data by \\u0026copy; \\u003ca target=\\&quot;_blank\\&quot; href=\\&quot;http://openstreetmap.org\\&quot;\\u003eOpenStreetMap\\u003c/a\\u003e, under \\u003ca target=\\&quot;_blank\\&quot; href=\\&quot;http://www.openstreetmap.org/copyright\\&quot;\\u003eODbL\\u003c/a\\u003e.&quot;, &quot;detectRetina&quot;: false, &quot;maxNativeZoom&quot;: 18, &quot;maxZoom&quot;: 18, &quot;minZoom&quot;: 0, &quot;noWrap&quot;: false, &quot;opacity&quot;: 1, &quot;subdomains&quot;: &quot;abc&quot;, &quot;tms&quot;: false}\n",
       "            ).addTo(map_c350c5ff8d902eb41952229318b23dd1);\n",
       "        \n",
       "    \n",
       "\n",
       "        function geo_json_e93a09047da2fb808af956f4c9ffc09a_onEachFeature(feature, layer) {\n",
       "            layer.on({\n",
       "            });\n",
       "        };\n",
       "        var geo_json_e93a09047da2fb808af956f4c9ffc09a = L.geoJson(null, {\n",
       "                onEachFeature: geo_json_e93a09047da2fb808af956f4c9ffc09a_onEachFeature,\n",
       "            \n",
       "        });\n",
       "\n",
       "        function geo_json_e93a09047da2fb808af956f4c9ffc09a_add (data) {\n",
       "            geo_json_e93a09047da2fb808af956f4c9ffc09a\n",
       "                .addData(data)\n",
       "                .addTo(map_c350c5ff8d902eb41952229318b23dd1);\n",
       "        }\n",
       "            geo_json_e93a09047da2fb808af956f4c9ffc09a_add({&quot;bbox&quot;: [-1.6974350503450637, 42.7827208954526, -1.5833680414838511, 42.83863784793104], &quot;features&quot;: [{&quot;bbox&quot;: [-1.6974350503450637, 42.7827208954526, -1.5833680414838511, 42.83863784793104], &quot;geometry&quot;: {&quot;coordinates&quot;: [[[-1.6974350503450637, 42.83863784793104], [-1.6974350503450637, 42.7827208954526], [-1.5833680414838511, 42.7827208954526], [-1.5833680414838511, 42.83863784793104], [-1.6974350503450637, 42.83863784793104]]], &quot;type&quot;: &quot;Polygon&quot;}, &quot;id&quot;: &quot;0&quot;, &quot;properties&quot;: {}, &quot;type&quot;: &quot;Feature&quot;}], &quot;type&quot;: &quot;FeatureCollection&quot;});\n",
       "\n",
       "        \n",
       "&lt;/script&gt;\n",
       "&lt;/html&gt;\" style=\"position:absolute;width:100%;height:100%;left:0;top:0;border:none !important;\" allowfullscreen webkitallowfullscreen mozallowfullscreen></iframe></div></div>"
      ],
      "text/plain": [
       "<folium.folium.Map at 0x7f821952cf10>"
      ]
     },
     "execution_count": 7,
     "metadata": {},
     "output_type": "execute_result"
    }
   ],
   "source": [
    "m = folium.Map([latitude, longitude], zoom_start=zoom)\n",
    "boundary = gpd.read_file(f'../data/geo/{name}.geojson')\n",
    "folium.GeoJson(boundary).add_to(m)\n",
    "m"
   ]
  },
  {
   "cell_type": "markdown",
   "id": "6e6dbe05",
   "metadata": {},
   "source": [
    "### Create a footprint of the region and generate a query."
   ]
  },
  {
   "cell_type": "code",
   "execution_count": 8,
   "id": "de9c7dc4",
   "metadata": {},
   "outputs": [
    {
     "data": {
      "image/svg+xml": [
       "<svg xmlns=\"http://www.w3.org/2000/svg\" xmlns:xlink=\"http://www.w3.org/1999/xlink\" width=\"100.0\" height=\"100.0\" viewBox=\"-1.7019977306995122 42.77815821509815 0.1231923695701096 0.06504231318733389\" preserveAspectRatio=\"xMinYMin meet\"><g transform=\"matrix(1,0,0,-1,0,85.62135874338364)\"><path fill-rule=\"evenodd\" fill=\"#66cc99\" stroke=\"#555555\" stroke-width=\"0.002463847391402192\" opacity=\"0.6\" d=\"M -1.6974350503450637,42.83863784793104 L -1.6974350503450637,42.7827208954526 L -1.5833680414838511,42.7827208954526 L -1.5833680414838511,42.83863784793104 L -1.6974350503450637,42.83863784793104 z\" /></g></svg>"
      ],
      "text/plain": [
       "<POLYGON ((-1.697 42.839, -1.697 42.783, -1.583 42.783, -1.583 42.839, -1.69...>"
      ]
     },
     "execution_count": 8,
     "metadata": {},
     "output_type": "execute_result"
    }
   ],
   "source": [
    "footprint = boundary['geometry'][0]\n",
    "footprint"
   ]
  },
  {
   "cell_type": "markdown",
   "id": "dcc626d1",
   "metadata": {},
   "source": [
    "## Download data"
   ]
  },
  {
   "cell_type": "code",
   "execution_count": 9,
   "id": "9be64802",
   "metadata": {},
   "outputs": [],
   "source": [
    "dates = ('20230601', '20210615')"
   ]
  },
  {
   "cell_type": "code",
   "execution_count": 11,
   "id": "ddc1928f",
   "metadata": {},
   "outputs": [],
   "source": [
    "from dotenv import load_dotenv"
   ]
  },
  {
   "cell_type": "code",
   "execution_count": 13,
   "id": "c4fc9859",
   "metadata": {},
   "outputs": [
    {
     "data": {
      "text/plain": [
       "True"
      ]
     },
     "execution_count": 13,
     "metadata": {},
     "output_type": "execute_result"
    }
   ],
   "source": [
    "load_dotenv()"
   ]
  },
  {
   "cell_type": "code",
   "execution_count": 16,
   "id": "109bbf59",
   "metadata": {},
   "outputs": [],
   "source": [
    "user = os.environ['COPERNICUS_USER']\n",
    "password = os.environ['COPERNICUS_PASSWORD']"
   ]
  },
  {
   "cell_type": "code",
   "execution_count": 17,
   "id": "87f80804",
   "metadata": {},
   "outputs": [],
   "source": [
    "api_url = 'https://scihub.copernicus.eu/dhus'"
   ]
  },
  {
   "cell_type": "code",
   "execution_count": 18,
   "id": "b4369f91",
   "metadata": {},
   "outputs": [],
   "source": [
    "api = SentinelAPI(user, password, api_url) "
   ]
  },
  {
   "cell_type": "code",
   "execution_count": 32,
   "id": "caa014a9",
   "metadata": {},
   "outputs": [],
   "source": [
    "dates = ('20230101', '20230610')"
   ]
  },
  {
   "cell_type": "code",
   "execution_count": 33,
   "id": "6acc5f2e",
   "metadata": {},
   "outputs": [],
   "source": [
    "products = api.query(footprint,\n",
    "                     date = dates,\n",
    "                     platformname = 'Sentinel-2',\n",
    "                     processinglevel = 'Level-2A',\n",
    "                     cloudcoverpercentage = (0, 10))"
   ]
  },
  {
   "cell_type": "code",
   "execution_count": 34,
   "id": "bcec22e8",
   "metadata": {},
   "outputs": [
    {
     "data": {
      "text/html": [
       "<div>\n",
       "<style scoped>\n",
       "    .dataframe tbody tr th:only-of-type {\n",
       "        vertical-align: middle;\n",
       "    }\n",
       "\n",
       "    .dataframe tbody tr th {\n",
       "        vertical-align: top;\n",
       "    }\n",
       "\n",
       "    .dataframe thead th {\n",
       "        text-align: right;\n",
       "    }\n",
       "</style>\n",
       "<table border=\"1\" class=\"dataframe\">\n",
       "  <thead>\n",
       "    <tr style=\"text-align: right;\">\n",
       "      <th></th>\n",
       "      <th>title</th>\n",
       "      <th>link</th>\n",
       "      <th>link_alternative</th>\n",
       "      <th>link_icon</th>\n",
       "      <th>summary</th>\n",
       "      <th>ondemand</th>\n",
       "      <th>generationdate</th>\n",
       "      <th>beginposition</th>\n",
       "      <th>endposition</th>\n",
       "      <th>ingestiondate</th>\n",
       "      <th>...</th>\n",
       "      <th>producttype</th>\n",
       "      <th>platformidentifier</th>\n",
       "      <th>orbitdirection</th>\n",
       "      <th>platformserialidentifier</th>\n",
       "      <th>processinglevel</th>\n",
       "      <th>datastripidentifier</th>\n",
       "      <th>granuleidentifier</th>\n",
       "      <th>identifier</th>\n",
       "      <th>uuid</th>\n",
       "      <th>geometry</th>\n",
       "    </tr>\n",
       "  </thead>\n",
       "  <tbody>\n",
       "    <tr>\n",
       "      <th>7da18c4b-4ce2-42e7-8ace-776f53420230</th>\n",
       "      <td>S2A_MSIL2A_20230408T105621_N0509_R094_T30TXN_2...</td>\n",
       "      <td>https://scihub.copernicus.eu/dhus/odata/v1/Pro...</td>\n",
       "      <td>https://scihub.copernicus.eu/dhus/odata/v1/Pro...</td>\n",
       "      <td>https://scihub.copernicus.eu/dhus/odata/v1/Pro...</td>\n",
       "      <td>Date: 2023-04-08T10:56:21.024Z, Instrument: MS...</td>\n",
       "      <td>false</td>\n",
       "      <td>2023-04-08 17:08:54</td>\n",
       "      <td>2023-04-08 10:56:21.024</td>\n",
       "      <td>2023-04-08 10:56:21.024</td>\n",
       "      <td>2023-04-08 18:58:46.845</td>\n",
       "      <td>...</td>\n",
       "      <td>S2MSI2A</td>\n",
       "      <td>2015-028A</td>\n",
       "      <td>DESCENDING</td>\n",
       "      <td>Sentinel-2A</td>\n",
       "      <td>Level-2A</td>\n",
       "      <td>S2A_OPER_MSI_L2A_DS_2APS_20230408T170854_S2023...</td>\n",
       "      <td>S2A_OPER_MSI_L2A_TL_2APS_20230408T170854_A0407...</td>\n",
       "      <td>S2A_MSIL2A_20230408T105621_N0509_R094_T30TXN_2...</td>\n",
       "      <td>7da18c4b-4ce2-42e7-8ace-776f53420230</td>\n",
       "      <td>MULTIPOLYGON (((-0.45337 42.33578, -0.41248 43...</td>\n",
       "    </tr>\n",
       "    <tr>\n",
       "      <th>1391f05d-ecc4-40d6-8b42-0641479683a7</th>\n",
       "      <td>S2A_MSIL2A_20230217T110121_N0509_R094_T30TWN_2...</td>\n",
       "      <td>https://scihub.copernicus.eu/dhus/odata/v1/Pro...</td>\n",
       "      <td>https://scihub.copernicus.eu/dhus/odata/v1/Pro...</td>\n",
       "      <td>https://scihub.copernicus.eu/dhus/odata/v1/Pro...</td>\n",
       "      <td>Date: 2023-02-17T11:01:21.024Z, Instrument: MS...</td>\n",
       "      <td>false</td>\n",
       "      <td>2023-02-17 17:04:59</td>\n",
       "      <td>2023-02-17 11:01:21.024</td>\n",
       "      <td>2023-02-17 11:01:21.024</td>\n",
       "      <td>2023-02-17 19:00:44.445</td>\n",
       "      <td>...</td>\n",
       "      <td>S2MSI2A</td>\n",
       "      <td>2015-028A</td>\n",
       "      <td>DESCENDING</td>\n",
       "      <td>Sentinel-2A</td>\n",
       "      <td>Level-2A</td>\n",
       "      <td>S2A_OPER_MSI_L2A_DS_2APS_20230217T170459_S2023...</td>\n",
       "      <td>S2A_OPER_MSI_L2A_TL_2APS_20230217T170459_A0399...</td>\n",
       "      <td>S2A_MSIL2A_20230217T110121_N0509_R094_T30TWN_2...</td>\n",
       "      <td>1391f05d-ecc4-40d6-8b42-0641479683a7</td>\n",
       "      <td>MULTIPOLYGON (((-1.66699 42.35632, -1.64554 43...</td>\n",
       "    </tr>\n",
       "    <tr>\n",
       "      <th>a3cece7a-6b25-4203-9897-48b974e5a414</th>\n",
       "      <td>S2A_MSIL2A_20230217T110121_N0509_R094_T30TXN_2...</td>\n",
       "      <td>https://scihub.copernicus.eu/dhus/odata/v1/Pro...</td>\n",
       "      <td>https://scihub.copernicus.eu/dhus/odata/v1/Pro...</td>\n",
       "      <td>https://scihub.copernicus.eu/dhus/odata/v1/Pro...</td>\n",
       "      <td>Date: 2023-02-17T11:01:21.024Z, Instrument: MS...</td>\n",
       "      <td>false</td>\n",
       "      <td>2023-02-17 17:04:59</td>\n",
       "      <td>2023-02-17 11:01:21.024</td>\n",
       "      <td>2023-02-17 11:01:21.024</td>\n",
       "      <td>2023-02-17 18:52:19.674</td>\n",
       "      <td>...</td>\n",
       "      <td>S2MSI2A</td>\n",
       "      <td>2015-028A</td>\n",
       "      <td>DESCENDING</td>\n",
       "      <td>Sentinel-2A</td>\n",
       "      <td>Level-2A</td>\n",
       "      <td>S2A_OPER_MSI_L2A_DS_2APS_20230217T170459_S2023...</td>\n",
       "      <td>S2A_OPER_MSI_L2A_TL_2APS_20230217T170459_A0399...</td>\n",
       "      <td>S2A_MSIL2A_20230217T110121_N0509_R094_T30TXN_2...</td>\n",
       "      <td>a3cece7a-6b25-4203-9897-48b974e5a414</td>\n",
       "      <td>MULTIPOLYGON (((-0.45337 42.33578, -0.41248 43...</td>\n",
       "    </tr>\n",
       "    <tr>\n",
       "      <th>967c8759-80c3-48a9-adef-cbce8611cab8</th>\n",
       "      <td>S2B_MSIL2A_20230212T110059_N0509_R094_T30TXN_2...</td>\n",
       "      <td>https://scihub.copernicus.eu/dhus/odata/v1/Pro...</td>\n",
       "      <td>https://scihub.copernicus.eu/dhus/odata/v1/Pro...</td>\n",
       "      <td>https://scihub.copernicus.eu/dhus/odata/v1/Pro...</td>\n",
       "      <td>Date: 2023-02-12T11:00:59.024Z, Instrument: MS...</td>\n",
       "      <td>false</td>\n",
       "      <td>2023-02-12 13:54:11</td>\n",
       "      <td>2023-02-12 11:00:59.024</td>\n",
       "      <td>2023-02-12 11:00:59.024</td>\n",
       "      <td>2023-02-12 16:27:39.852</td>\n",
       "      <td>...</td>\n",
       "      <td>S2MSI2A</td>\n",
       "      <td>2017-013A</td>\n",
       "      <td>DESCENDING</td>\n",
       "      <td>Sentinel-2B</td>\n",
       "      <td>Level-2A</td>\n",
       "      <td>S2B_OPER_MSI_L2A_DS_2BPS_20230212T135411_S2023...</td>\n",
       "      <td>S2B_OPER_MSI_L2A_TL_2BPS_20230212T135411_A0310...</td>\n",
       "      <td>S2B_MSIL2A_20230212T110059_N0509_R094_T30TXN_2...</td>\n",
       "      <td>967c8759-80c3-48a9-adef-cbce8611cab8</td>\n",
       "      <td>MULTIPOLYGON (((-0.45337 42.33578, -0.41248 43...</td>\n",
       "    </tr>\n",
       "    <tr>\n",
       "      <th>629f4e9b-0dda-4992-ac6e-c0262e28c10e</th>\n",
       "      <td>S2B_MSIL2A_20230212T110059_N0509_R094_T30TWN_2...</td>\n",
       "      <td>https://scihub.copernicus.eu/dhus/odata/v1/Pro...</td>\n",
       "      <td>https://scihub.copernicus.eu/dhus/odata/v1/Pro...</td>\n",
       "      <td>https://scihub.copernicus.eu/dhus/odata/v1/Pro...</td>\n",
       "      <td>Date: 2023-02-12T11:00:59.024Z, Instrument: MS...</td>\n",
       "      <td>false</td>\n",
       "      <td>2023-02-12 13:54:11</td>\n",
       "      <td>2023-02-12 11:00:59.024</td>\n",
       "      <td>2023-02-12 11:00:59.024</td>\n",
       "      <td>2023-02-12 16:15:44.728</td>\n",
       "      <td>...</td>\n",
       "      <td>S2MSI2A</td>\n",
       "      <td>2017-013A</td>\n",
       "      <td>DESCENDING</td>\n",
       "      <td>Sentinel-2B</td>\n",
       "      <td>Level-2A</td>\n",
       "      <td>S2B_OPER_MSI_L2A_DS_2BPS_20230212T135411_S2023...</td>\n",
       "      <td>S2B_OPER_MSI_L2A_TL_2BPS_20230212T135411_A0310...</td>\n",
       "      <td>S2B_MSIL2A_20230212T110059_N0509_R094_T30TWN_2...</td>\n",
       "      <td>629f4e9b-0dda-4992-ac6e-c0262e28c10e</td>\n",
       "      <td>MULTIPOLYGON (((-1.66699 42.35632, -1.64554 43...</td>\n",
       "    </tr>\n",
       "    <tr>\n",
       "      <th>b903ee03-c77d-4056-92dd-4a7e47cdbff2</th>\n",
       "      <td>S2B_MSIL2A_20230202T110159_N0509_R094_T30TXN_2...</td>\n",
       "      <td>https://scihub.copernicus.eu/dhus/odata/v1/Pro...</td>\n",
       "      <td>https://scihub.copernicus.eu/dhus/odata/v1/Pro...</td>\n",
       "      <td>https://scihub.copernicus.eu/dhus/odata/v1/Pro...</td>\n",
       "      <td>Date: 2023-02-02T11:01:59.024Z, Instrument: MS...</td>\n",
       "      <td>false</td>\n",
       "      <td>2023-02-02 12:24:54</td>\n",
       "      <td>2023-02-02 11:01:59.024</td>\n",
       "      <td>2023-02-02 11:01:59.024</td>\n",
       "      <td>2023-02-02 15:24:01.850</td>\n",
       "      <td>...</td>\n",
       "      <td>S2MSI2A</td>\n",
       "      <td>2017-013A</td>\n",
       "      <td>DESCENDING</td>\n",
       "      <td>Sentinel-2B</td>\n",
       "      <td>Level-2A</td>\n",
       "      <td>S2B_OPER_MSI_L2A_DS_2BPS_20230202T122454_S2023...</td>\n",
       "      <td>S2B_OPER_MSI_L2A_TL_2BPS_20230202T122454_A0308...</td>\n",
       "      <td>S2B_MSIL2A_20230202T110159_N0509_R094_T30TXN_2...</td>\n",
       "      <td>b903ee03-c77d-4056-92dd-4a7e47cdbff2</td>\n",
       "      <td>MULTIPOLYGON (((-0.45337 42.33578, -0.41248 43...</td>\n",
       "    </tr>\n",
       "    <tr>\n",
       "      <th>f59cd263-030f-4a51-b529-3f36d9e4c194</th>\n",
       "      <td>S2B_MSIL2A_20230202T110159_N0509_R094_T30TWN_2...</td>\n",
       "      <td>https://scihub.copernicus.eu/dhus/odata/v1/Pro...</td>\n",
       "      <td>https://scihub.copernicus.eu/dhus/odata/v1/Pro...</td>\n",
       "      <td>https://scihub.copernicus.eu/dhus/odata/v1/Pro...</td>\n",
       "      <td>Date: 2023-02-02T11:01:59.024Z, Instrument: MS...</td>\n",
       "      <td>false</td>\n",
       "      <td>2023-02-02 12:24:54</td>\n",
       "      <td>2023-02-02 11:01:59.024</td>\n",
       "      <td>2023-02-02 11:01:59.024</td>\n",
       "      <td>2023-02-02 14:48:50.016</td>\n",
       "      <td>...</td>\n",
       "      <td>S2MSI2A</td>\n",
       "      <td>2017-013A</td>\n",
       "      <td>DESCENDING</td>\n",
       "      <td>Sentinel-2B</td>\n",
       "      <td>Level-2A</td>\n",
       "      <td>S2B_OPER_MSI_L2A_DS_2BPS_20230202T122454_S2023...</td>\n",
       "      <td>S2B_OPER_MSI_L2A_TL_2BPS_20230202T122454_A0308...</td>\n",
       "      <td>S2B_MSIL2A_20230202T110159_N0509_R094_T30TWN_2...</td>\n",
       "      <td>f59cd263-030f-4a51-b529-3f36d9e4c194</td>\n",
       "      <td>MULTIPOLYGON (((-1.66699 42.35632, -1.64554 43...</td>\n",
       "    </tr>\n",
       "    <tr>\n",
       "      <th>62a7e0d4-7f5f-441a-95ec-637a954838bc</th>\n",
       "      <td>S2B_MSIL2A_20230103T110349_N0509_R094_T30TWN_2...</td>\n",
       "      <td>https://scihub.copernicus.eu/dhus/odata/v1/Pro...</td>\n",
       "      <td>https://scihub.copernicus.eu/dhus/odata/v1/Pro...</td>\n",
       "      <td>https://scihub.copernicus.eu/dhus/odata/v1/Pro...</td>\n",
       "      <td>Date: 2023-01-03T11:03:49.024Z, Instrument: MS...</td>\n",
       "      <td>false</td>\n",
       "      <td>2023-01-03 12:40:34</td>\n",
       "      <td>2023-01-03 11:03:49.024</td>\n",
       "      <td>2023-01-03 11:03:49.024</td>\n",
       "      <td>2023-01-03 15:32:27.204</td>\n",
       "      <td>...</td>\n",
       "      <td>S2MSI2A</td>\n",
       "      <td>2017-013A</td>\n",
       "      <td>DESCENDING</td>\n",
       "      <td>Sentinel-2B</td>\n",
       "      <td>Level-2A</td>\n",
       "      <td>S2B_OPER_MSI_L2A_DS_2BPS_20230103T124034_S2023...</td>\n",
       "      <td>S2B_OPER_MSI_L2A_TL_2BPS_20230103T124034_A0304...</td>\n",
       "      <td>S2B_MSIL2A_20230103T110349_N0509_R094_T30TWN_2...</td>\n",
       "      <td>62a7e0d4-7f5f-441a-95ec-637a954838bc</td>\n",
       "      <td>MULTIPOLYGON (((-1.66699 42.35632, -1.64554 43...</td>\n",
       "    </tr>\n",
       "    <tr>\n",
       "      <th>5dcd99f6-2370-49d9-98b4-f24e2bf7215a</th>\n",
       "      <td>S2B_MSIL2A_20230103T110349_N0509_R094_T30TXN_2...</td>\n",
       "      <td>https://scihub.copernicus.eu/dhus/odata/v1/Pro...</td>\n",
       "      <td>https://scihub.copernicus.eu/dhus/odata/v1/Pro...</td>\n",
       "      <td>https://scihub.copernicus.eu/dhus/odata/v1/Pro...</td>\n",
       "      <td>Date: 2023-01-03T11:03:49.024Z, Instrument: MS...</td>\n",
       "      <td>false</td>\n",
       "      <td>2023-01-03 12:40:34</td>\n",
       "      <td>2023-01-03 11:03:49.024</td>\n",
       "      <td>2023-01-03 11:03:49.024</td>\n",
       "      <td>2023-01-03 15:24:26.942</td>\n",
       "      <td>...</td>\n",
       "      <td>S2MSI2A</td>\n",
       "      <td>2017-013A</td>\n",
       "      <td>DESCENDING</td>\n",
       "      <td>Sentinel-2B</td>\n",
       "      <td>Level-2A</td>\n",
       "      <td>S2B_OPER_MSI_L2A_DS_2BPS_20230103T124034_S2023...</td>\n",
       "      <td>S2B_OPER_MSI_L2A_TL_2BPS_20230103T124034_A0304...</td>\n",
       "      <td>S2B_MSIL2A_20230103T110349_N0509_R094_T30TXN_2...</td>\n",
       "      <td>5dcd99f6-2370-49d9-98b4-f24e2bf7215a</td>\n",
       "      <td>MULTIPOLYGON (((-0.45337 42.33578, -0.41248 43...</td>\n",
       "    </tr>\n",
       "  </tbody>\n",
       "</table>\n",
       "<p>9 rows × 41 columns</p>\n",
       "</div>"
      ],
      "text/plain": [
       "                                                                                  title  \\\n",
       "7da18c4b-4ce2-42e7-8ace-776f53420230  S2A_MSIL2A_20230408T105621_N0509_R094_T30TXN_2...   \n",
       "1391f05d-ecc4-40d6-8b42-0641479683a7  S2A_MSIL2A_20230217T110121_N0509_R094_T30TWN_2...   \n",
       "a3cece7a-6b25-4203-9897-48b974e5a414  S2A_MSIL2A_20230217T110121_N0509_R094_T30TXN_2...   \n",
       "967c8759-80c3-48a9-adef-cbce8611cab8  S2B_MSIL2A_20230212T110059_N0509_R094_T30TXN_2...   \n",
       "629f4e9b-0dda-4992-ac6e-c0262e28c10e  S2B_MSIL2A_20230212T110059_N0509_R094_T30TWN_2...   \n",
       "b903ee03-c77d-4056-92dd-4a7e47cdbff2  S2B_MSIL2A_20230202T110159_N0509_R094_T30TXN_2...   \n",
       "f59cd263-030f-4a51-b529-3f36d9e4c194  S2B_MSIL2A_20230202T110159_N0509_R094_T30TWN_2...   \n",
       "62a7e0d4-7f5f-441a-95ec-637a954838bc  S2B_MSIL2A_20230103T110349_N0509_R094_T30TWN_2...   \n",
       "5dcd99f6-2370-49d9-98b4-f24e2bf7215a  S2B_MSIL2A_20230103T110349_N0509_R094_T30TXN_2...   \n",
       "\n",
       "                                                                                   link  \\\n",
       "7da18c4b-4ce2-42e7-8ace-776f53420230  https://scihub.copernicus.eu/dhus/odata/v1/Pro...   \n",
       "1391f05d-ecc4-40d6-8b42-0641479683a7  https://scihub.copernicus.eu/dhus/odata/v1/Pro...   \n",
       "a3cece7a-6b25-4203-9897-48b974e5a414  https://scihub.copernicus.eu/dhus/odata/v1/Pro...   \n",
       "967c8759-80c3-48a9-adef-cbce8611cab8  https://scihub.copernicus.eu/dhus/odata/v1/Pro...   \n",
       "629f4e9b-0dda-4992-ac6e-c0262e28c10e  https://scihub.copernicus.eu/dhus/odata/v1/Pro...   \n",
       "b903ee03-c77d-4056-92dd-4a7e47cdbff2  https://scihub.copernicus.eu/dhus/odata/v1/Pro...   \n",
       "f59cd263-030f-4a51-b529-3f36d9e4c194  https://scihub.copernicus.eu/dhus/odata/v1/Pro...   \n",
       "62a7e0d4-7f5f-441a-95ec-637a954838bc  https://scihub.copernicus.eu/dhus/odata/v1/Pro...   \n",
       "5dcd99f6-2370-49d9-98b4-f24e2bf7215a  https://scihub.copernicus.eu/dhus/odata/v1/Pro...   \n",
       "\n",
       "                                                                       link_alternative  \\\n",
       "7da18c4b-4ce2-42e7-8ace-776f53420230  https://scihub.copernicus.eu/dhus/odata/v1/Pro...   \n",
       "1391f05d-ecc4-40d6-8b42-0641479683a7  https://scihub.copernicus.eu/dhus/odata/v1/Pro...   \n",
       "a3cece7a-6b25-4203-9897-48b974e5a414  https://scihub.copernicus.eu/dhus/odata/v1/Pro...   \n",
       "967c8759-80c3-48a9-adef-cbce8611cab8  https://scihub.copernicus.eu/dhus/odata/v1/Pro...   \n",
       "629f4e9b-0dda-4992-ac6e-c0262e28c10e  https://scihub.copernicus.eu/dhus/odata/v1/Pro...   \n",
       "b903ee03-c77d-4056-92dd-4a7e47cdbff2  https://scihub.copernicus.eu/dhus/odata/v1/Pro...   \n",
       "f59cd263-030f-4a51-b529-3f36d9e4c194  https://scihub.copernicus.eu/dhus/odata/v1/Pro...   \n",
       "62a7e0d4-7f5f-441a-95ec-637a954838bc  https://scihub.copernicus.eu/dhus/odata/v1/Pro...   \n",
       "5dcd99f6-2370-49d9-98b4-f24e2bf7215a  https://scihub.copernicus.eu/dhus/odata/v1/Pro...   \n",
       "\n",
       "                                                                              link_icon  \\\n",
       "7da18c4b-4ce2-42e7-8ace-776f53420230  https://scihub.copernicus.eu/dhus/odata/v1/Pro...   \n",
       "1391f05d-ecc4-40d6-8b42-0641479683a7  https://scihub.copernicus.eu/dhus/odata/v1/Pro...   \n",
       "a3cece7a-6b25-4203-9897-48b974e5a414  https://scihub.copernicus.eu/dhus/odata/v1/Pro...   \n",
       "967c8759-80c3-48a9-adef-cbce8611cab8  https://scihub.copernicus.eu/dhus/odata/v1/Pro...   \n",
       "629f4e9b-0dda-4992-ac6e-c0262e28c10e  https://scihub.copernicus.eu/dhus/odata/v1/Pro...   \n",
       "b903ee03-c77d-4056-92dd-4a7e47cdbff2  https://scihub.copernicus.eu/dhus/odata/v1/Pro...   \n",
       "f59cd263-030f-4a51-b529-3f36d9e4c194  https://scihub.copernicus.eu/dhus/odata/v1/Pro...   \n",
       "62a7e0d4-7f5f-441a-95ec-637a954838bc  https://scihub.copernicus.eu/dhus/odata/v1/Pro...   \n",
       "5dcd99f6-2370-49d9-98b4-f24e2bf7215a  https://scihub.copernicus.eu/dhus/odata/v1/Pro...   \n",
       "\n",
       "                                                                                summary  \\\n",
       "7da18c4b-4ce2-42e7-8ace-776f53420230  Date: 2023-04-08T10:56:21.024Z, Instrument: MS...   \n",
       "1391f05d-ecc4-40d6-8b42-0641479683a7  Date: 2023-02-17T11:01:21.024Z, Instrument: MS...   \n",
       "a3cece7a-6b25-4203-9897-48b974e5a414  Date: 2023-02-17T11:01:21.024Z, Instrument: MS...   \n",
       "967c8759-80c3-48a9-adef-cbce8611cab8  Date: 2023-02-12T11:00:59.024Z, Instrument: MS...   \n",
       "629f4e9b-0dda-4992-ac6e-c0262e28c10e  Date: 2023-02-12T11:00:59.024Z, Instrument: MS...   \n",
       "b903ee03-c77d-4056-92dd-4a7e47cdbff2  Date: 2023-02-02T11:01:59.024Z, Instrument: MS...   \n",
       "f59cd263-030f-4a51-b529-3f36d9e4c194  Date: 2023-02-02T11:01:59.024Z, Instrument: MS...   \n",
       "62a7e0d4-7f5f-441a-95ec-637a954838bc  Date: 2023-01-03T11:03:49.024Z, Instrument: MS...   \n",
       "5dcd99f6-2370-49d9-98b4-f24e2bf7215a  Date: 2023-01-03T11:03:49.024Z, Instrument: MS...   \n",
       "\n",
       "                                     ondemand      generationdate  \\\n",
       "7da18c4b-4ce2-42e7-8ace-776f53420230    false 2023-04-08 17:08:54   \n",
       "1391f05d-ecc4-40d6-8b42-0641479683a7    false 2023-02-17 17:04:59   \n",
       "a3cece7a-6b25-4203-9897-48b974e5a414    false 2023-02-17 17:04:59   \n",
       "967c8759-80c3-48a9-adef-cbce8611cab8    false 2023-02-12 13:54:11   \n",
       "629f4e9b-0dda-4992-ac6e-c0262e28c10e    false 2023-02-12 13:54:11   \n",
       "b903ee03-c77d-4056-92dd-4a7e47cdbff2    false 2023-02-02 12:24:54   \n",
       "f59cd263-030f-4a51-b529-3f36d9e4c194    false 2023-02-02 12:24:54   \n",
       "62a7e0d4-7f5f-441a-95ec-637a954838bc    false 2023-01-03 12:40:34   \n",
       "5dcd99f6-2370-49d9-98b4-f24e2bf7215a    false 2023-01-03 12:40:34   \n",
       "\n",
       "                                               beginposition  \\\n",
       "7da18c4b-4ce2-42e7-8ace-776f53420230 2023-04-08 10:56:21.024   \n",
       "1391f05d-ecc4-40d6-8b42-0641479683a7 2023-02-17 11:01:21.024   \n",
       "a3cece7a-6b25-4203-9897-48b974e5a414 2023-02-17 11:01:21.024   \n",
       "967c8759-80c3-48a9-adef-cbce8611cab8 2023-02-12 11:00:59.024   \n",
       "629f4e9b-0dda-4992-ac6e-c0262e28c10e 2023-02-12 11:00:59.024   \n",
       "b903ee03-c77d-4056-92dd-4a7e47cdbff2 2023-02-02 11:01:59.024   \n",
       "f59cd263-030f-4a51-b529-3f36d9e4c194 2023-02-02 11:01:59.024   \n",
       "62a7e0d4-7f5f-441a-95ec-637a954838bc 2023-01-03 11:03:49.024   \n",
       "5dcd99f6-2370-49d9-98b4-f24e2bf7215a 2023-01-03 11:03:49.024   \n",
       "\n",
       "                                                 endposition  \\\n",
       "7da18c4b-4ce2-42e7-8ace-776f53420230 2023-04-08 10:56:21.024   \n",
       "1391f05d-ecc4-40d6-8b42-0641479683a7 2023-02-17 11:01:21.024   \n",
       "a3cece7a-6b25-4203-9897-48b974e5a414 2023-02-17 11:01:21.024   \n",
       "967c8759-80c3-48a9-adef-cbce8611cab8 2023-02-12 11:00:59.024   \n",
       "629f4e9b-0dda-4992-ac6e-c0262e28c10e 2023-02-12 11:00:59.024   \n",
       "b903ee03-c77d-4056-92dd-4a7e47cdbff2 2023-02-02 11:01:59.024   \n",
       "f59cd263-030f-4a51-b529-3f36d9e4c194 2023-02-02 11:01:59.024   \n",
       "62a7e0d4-7f5f-441a-95ec-637a954838bc 2023-01-03 11:03:49.024   \n",
       "5dcd99f6-2370-49d9-98b4-f24e2bf7215a 2023-01-03 11:03:49.024   \n",
       "\n",
       "                                               ingestiondate  ...  \\\n",
       "7da18c4b-4ce2-42e7-8ace-776f53420230 2023-04-08 18:58:46.845  ...   \n",
       "1391f05d-ecc4-40d6-8b42-0641479683a7 2023-02-17 19:00:44.445  ...   \n",
       "a3cece7a-6b25-4203-9897-48b974e5a414 2023-02-17 18:52:19.674  ...   \n",
       "967c8759-80c3-48a9-adef-cbce8611cab8 2023-02-12 16:27:39.852  ...   \n",
       "629f4e9b-0dda-4992-ac6e-c0262e28c10e 2023-02-12 16:15:44.728  ...   \n",
       "b903ee03-c77d-4056-92dd-4a7e47cdbff2 2023-02-02 15:24:01.850  ...   \n",
       "f59cd263-030f-4a51-b529-3f36d9e4c194 2023-02-02 14:48:50.016  ...   \n",
       "62a7e0d4-7f5f-441a-95ec-637a954838bc 2023-01-03 15:32:27.204  ...   \n",
       "5dcd99f6-2370-49d9-98b4-f24e2bf7215a 2023-01-03 15:24:26.942  ...   \n",
       "\n",
       "                                      producttype  platformidentifier  \\\n",
       "7da18c4b-4ce2-42e7-8ace-776f53420230      S2MSI2A           2015-028A   \n",
       "1391f05d-ecc4-40d6-8b42-0641479683a7      S2MSI2A           2015-028A   \n",
       "a3cece7a-6b25-4203-9897-48b974e5a414      S2MSI2A           2015-028A   \n",
       "967c8759-80c3-48a9-adef-cbce8611cab8      S2MSI2A           2017-013A   \n",
       "629f4e9b-0dda-4992-ac6e-c0262e28c10e      S2MSI2A           2017-013A   \n",
       "b903ee03-c77d-4056-92dd-4a7e47cdbff2      S2MSI2A           2017-013A   \n",
       "f59cd263-030f-4a51-b529-3f36d9e4c194      S2MSI2A           2017-013A   \n",
       "62a7e0d4-7f5f-441a-95ec-637a954838bc      S2MSI2A           2017-013A   \n",
       "5dcd99f6-2370-49d9-98b4-f24e2bf7215a      S2MSI2A           2017-013A   \n",
       "\n",
       "                                      orbitdirection  \\\n",
       "7da18c4b-4ce2-42e7-8ace-776f53420230      DESCENDING   \n",
       "1391f05d-ecc4-40d6-8b42-0641479683a7      DESCENDING   \n",
       "a3cece7a-6b25-4203-9897-48b974e5a414      DESCENDING   \n",
       "967c8759-80c3-48a9-adef-cbce8611cab8      DESCENDING   \n",
       "629f4e9b-0dda-4992-ac6e-c0262e28c10e      DESCENDING   \n",
       "b903ee03-c77d-4056-92dd-4a7e47cdbff2      DESCENDING   \n",
       "f59cd263-030f-4a51-b529-3f36d9e4c194      DESCENDING   \n",
       "62a7e0d4-7f5f-441a-95ec-637a954838bc      DESCENDING   \n",
       "5dcd99f6-2370-49d9-98b4-f24e2bf7215a      DESCENDING   \n",
       "\n",
       "                                      platformserialidentifier  \\\n",
       "7da18c4b-4ce2-42e7-8ace-776f53420230               Sentinel-2A   \n",
       "1391f05d-ecc4-40d6-8b42-0641479683a7               Sentinel-2A   \n",
       "a3cece7a-6b25-4203-9897-48b974e5a414               Sentinel-2A   \n",
       "967c8759-80c3-48a9-adef-cbce8611cab8               Sentinel-2B   \n",
       "629f4e9b-0dda-4992-ac6e-c0262e28c10e               Sentinel-2B   \n",
       "b903ee03-c77d-4056-92dd-4a7e47cdbff2               Sentinel-2B   \n",
       "f59cd263-030f-4a51-b529-3f36d9e4c194               Sentinel-2B   \n",
       "62a7e0d4-7f5f-441a-95ec-637a954838bc               Sentinel-2B   \n",
       "5dcd99f6-2370-49d9-98b4-f24e2bf7215a               Sentinel-2B   \n",
       "\n",
       "                                      processinglevel  \\\n",
       "7da18c4b-4ce2-42e7-8ace-776f53420230         Level-2A   \n",
       "1391f05d-ecc4-40d6-8b42-0641479683a7         Level-2A   \n",
       "a3cece7a-6b25-4203-9897-48b974e5a414         Level-2A   \n",
       "967c8759-80c3-48a9-adef-cbce8611cab8         Level-2A   \n",
       "629f4e9b-0dda-4992-ac6e-c0262e28c10e         Level-2A   \n",
       "b903ee03-c77d-4056-92dd-4a7e47cdbff2         Level-2A   \n",
       "f59cd263-030f-4a51-b529-3f36d9e4c194         Level-2A   \n",
       "62a7e0d4-7f5f-441a-95ec-637a954838bc         Level-2A   \n",
       "5dcd99f6-2370-49d9-98b4-f24e2bf7215a         Level-2A   \n",
       "\n",
       "                                                                    datastripidentifier  \\\n",
       "7da18c4b-4ce2-42e7-8ace-776f53420230  S2A_OPER_MSI_L2A_DS_2APS_20230408T170854_S2023...   \n",
       "1391f05d-ecc4-40d6-8b42-0641479683a7  S2A_OPER_MSI_L2A_DS_2APS_20230217T170459_S2023...   \n",
       "a3cece7a-6b25-4203-9897-48b974e5a414  S2A_OPER_MSI_L2A_DS_2APS_20230217T170459_S2023...   \n",
       "967c8759-80c3-48a9-adef-cbce8611cab8  S2B_OPER_MSI_L2A_DS_2BPS_20230212T135411_S2023...   \n",
       "629f4e9b-0dda-4992-ac6e-c0262e28c10e  S2B_OPER_MSI_L2A_DS_2BPS_20230212T135411_S2023...   \n",
       "b903ee03-c77d-4056-92dd-4a7e47cdbff2  S2B_OPER_MSI_L2A_DS_2BPS_20230202T122454_S2023...   \n",
       "f59cd263-030f-4a51-b529-3f36d9e4c194  S2B_OPER_MSI_L2A_DS_2BPS_20230202T122454_S2023...   \n",
       "62a7e0d4-7f5f-441a-95ec-637a954838bc  S2B_OPER_MSI_L2A_DS_2BPS_20230103T124034_S2023...   \n",
       "5dcd99f6-2370-49d9-98b4-f24e2bf7215a  S2B_OPER_MSI_L2A_DS_2BPS_20230103T124034_S2023...   \n",
       "\n",
       "                                                                      granuleidentifier  \\\n",
       "7da18c4b-4ce2-42e7-8ace-776f53420230  S2A_OPER_MSI_L2A_TL_2APS_20230408T170854_A0407...   \n",
       "1391f05d-ecc4-40d6-8b42-0641479683a7  S2A_OPER_MSI_L2A_TL_2APS_20230217T170459_A0399...   \n",
       "a3cece7a-6b25-4203-9897-48b974e5a414  S2A_OPER_MSI_L2A_TL_2APS_20230217T170459_A0399...   \n",
       "967c8759-80c3-48a9-adef-cbce8611cab8  S2B_OPER_MSI_L2A_TL_2BPS_20230212T135411_A0310...   \n",
       "629f4e9b-0dda-4992-ac6e-c0262e28c10e  S2B_OPER_MSI_L2A_TL_2BPS_20230212T135411_A0310...   \n",
       "b903ee03-c77d-4056-92dd-4a7e47cdbff2  S2B_OPER_MSI_L2A_TL_2BPS_20230202T122454_A0308...   \n",
       "f59cd263-030f-4a51-b529-3f36d9e4c194  S2B_OPER_MSI_L2A_TL_2BPS_20230202T122454_A0308...   \n",
       "62a7e0d4-7f5f-441a-95ec-637a954838bc  S2B_OPER_MSI_L2A_TL_2BPS_20230103T124034_A0304...   \n",
       "5dcd99f6-2370-49d9-98b4-f24e2bf7215a  S2B_OPER_MSI_L2A_TL_2BPS_20230103T124034_A0304...   \n",
       "\n",
       "                                                                             identifier  \\\n",
       "7da18c4b-4ce2-42e7-8ace-776f53420230  S2A_MSIL2A_20230408T105621_N0509_R094_T30TXN_2...   \n",
       "1391f05d-ecc4-40d6-8b42-0641479683a7  S2A_MSIL2A_20230217T110121_N0509_R094_T30TWN_2...   \n",
       "a3cece7a-6b25-4203-9897-48b974e5a414  S2A_MSIL2A_20230217T110121_N0509_R094_T30TXN_2...   \n",
       "967c8759-80c3-48a9-adef-cbce8611cab8  S2B_MSIL2A_20230212T110059_N0509_R094_T30TXN_2...   \n",
       "629f4e9b-0dda-4992-ac6e-c0262e28c10e  S2B_MSIL2A_20230212T110059_N0509_R094_T30TWN_2...   \n",
       "b903ee03-c77d-4056-92dd-4a7e47cdbff2  S2B_MSIL2A_20230202T110159_N0509_R094_T30TXN_2...   \n",
       "f59cd263-030f-4a51-b529-3f36d9e4c194  S2B_MSIL2A_20230202T110159_N0509_R094_T30TWN_2...   \n",
       "62a7e0d4-7f5f-441a-95ec-637a954838bc  S2B_MSIL2A_20230103T110349_N0509_R094_T30TWN_2...   \n",
       "5dcd99f6-2370-49d9-98b4-f24e2bf7215a  S2B_MSIL2A_20230103T110349_N0509_R094_T30TXN_2...   \n",
       "\n",
       "                                                                      uuid  \\\n",
       "7da18c4b-4ce2-42e7-8ace-776f53420230  7da18c4b-4ce2-42e7-8ace-776f53420230   \n",
       "1391f05d-ecc4-40d6-8b42-0641479683a7  1391f05d-ecc4-40d6-8b42-0641479683a7   \n",
       "a3cece7a-6b25-4203-9897-48b974e5a414  a3cece7a-6b25-4203-9897-48b974e5a414   \n",
       "967c8759-80c3-48a9-adef-cbce8611cab8  967c8759-80c3-48a9-adef-cbce8611cab8   \n",
       "629f4e9b-0dda-4992-ac6e-c0262e28c10e  629f4e9b-0dda-4992-ac6e-c0262e28c10e   \n",
       "b903ee03-c77d-4056-92dd-4a7e47cdbff2  b903ee03-c77d-4056-92dd-4a7e47cdbff2   \n",
       "f59cd263-030f-4a51-b529-3f36d9e4c194  f59cd263-030f-4a51-b529-3f36d9e4c194   \n",
       "62a7e0d4-7f5f-441a-95ec-637a954838bc  62a7e0d4-7f5f-441a-95ec-637a954838bc   \n",
       "5dcd99f6-2370-49d9-98b4-f24e2bf7215a  5dcd99f6-2370-49d9-98b4-f24e2bf7215a   \n",
       "\n",
       "                                                                               geometry  \n",
       "7da18c4b-4ce2-42e7-8ace-776f53420230  MULTIPOLYGON (((-0.45337 42.33578, -0.41248 43...  \n",
       "1391f05d-ecc4-40d6-8b42-0641479683a7  MULTIPOLYGON (((-1.66699 42.35632, -1.64554 43...  \n",
       "a3cece7a-6b25-4203-9897-48b974e5a414  MULTIPOLYGON (((-0.45337 42.33578, -0.41248 43...  \n",
       "967c8759-80c3-48a9-adef-cbce8611cab8  MULTIPOLYGON (((-0.45337 42.33578, -0.41248 43...  \n",
       "629f4e9b-0dda-4992-ac6e-c0262e28c10e  MULTIPOLYGON (((-1.66699 42.35632, -1.64554 43...  \n",
       "b903ee03-c77d-4056-92dd-4a7e47cdbff2  MULTIPOLYGON (((-0.45337 42.33578, -0.41248 43...  \n",
       "f59cd263-030f-4a51-b529-3f36d9e4c194  MULTIPOLYGON (((-1.66699 42.35632, -1.64554 43...  \n",
       "62a7e0d4-7f5f-441a-95ec-637a954838bc  MULTIPOLYGON (((-1.66699 42.35632, -1.64554 43...  \n",
       "5dcd99f6-2370-49d9-98b4-f24e2bf7215a  MULTIPOLYGON (((-0.45337 42.33578, -0.41248 43...  \n",
       "\n",
       "[9 rows x 41 columns]"
      ]
     },
     "execution_count": 34,
     "metadata": {},
     "output_type": "execute_result"
    }
   ],
   "source": [
    "gdf = api.to_geodataframe(products)\n",
    "gdf"
   ]
  },
  {
   "cell_type": "code",
   "execution_count": 35,
   "id": "f1525858",
   "metadata": {},
   "outputs": [],
   "source": [
    "\n",
    "gdf_sorted = gdf.sort_values(['cloudcoverpercentage'])"
   ]
  },
  {
   "cell_type": "code",
   "execution_count": 36,
   "id": "d165ca86",
   "metadata": {},
   "outputs": [
    {
     "data": {
      "text/html": [
       "<div>\n",
       "<style scoped>\n",
       "    .dataframe tbody tr th:only-of-type {\n",
       "        vertical-align: middle;\n",
       "    }\n",
       "\n",
       "    .dataframe tbody tr th {\n",
       "        vertical-align: top;\n",
       "    }\n",
       "\n",
       "    .dataframe thead th {\n",
       "        text-align: right;\n",
       "    }\n",
       "</style>\n",
       "<table border=\"1\" class=\"dataframe\">\n",
       "  <thead>\n",
       "    <tr style=\"text-align: right;\">\n",
       "      <th></th>\n",
       "      <th>title</th>\n",
       "      <th>cloudcoverpercentage</th>\n",
       "    </tr>\n",
       "  </thead>\n",
       "  <tbody>\n",
       "    <tr>\n",
       "      <th>967c8759-80c3-48a9-adef-cbce8611cab8</th>\n",
       "      <td>S2B_MSIL2A_20230212T110059_N0509_R094_T30TXN_2...</td>\n",
       "      <td>0.911268</td>\n",
       "    </tr>\n",
       "    <tr>\n",
       "      <th>629f4e9b-0dda-4992-ac6e-c0262e28c10e</th>\n",
       "      <td>S2B_MSIL2A_20230212T110059_N0509_R094_T30TWN_2...</td>\n",
       "      <td>1.273938</td>\n",
       "    </tr>\n",
       "    <tr>\n",
       "      <th>a3cece7a-6b25-4203-9897-48b974e5a414</th>\n",
       "      <td>S2A_MSIL2A_20230217T110121_N0509_R094_T30TXN_2...</td>\n",
       "      <td>2.496120</td>\n",
       "    </tr>\n",
       "    <tr>\n",
       "      <th>b903ee03-c77d-4056-92dd-4a7e47cdbff2</th>\n",
       "      <td>S2B_MSIL2A_20230202T110159_N0509_R094_T30TXN_2...</td>\n",
       "      <td>2.760731</td>\n",
       "    </tr>\n",
       "    <tr>\n",
       "      <th>f59cd263-030f-4a51-b529-3f36d9e4c194</th>\n",
       "      <td>S2B_MSIL2A_20230202T110159_N0509_R094_T30TWN_2...</td>\n",
       "      <td>5.290278</td>\n",
       "    </tr>\n",
       "    <tr>\n",
       "      <th>1391f05d-ecc4-40d6-8b42-0641479683a7</th>\n",
       "      <td>S2A_MSIL2A_20230217T110121_N0509_R094_T30TWN_2...</td>\n",
       "      <td>7.154439</td>\n",
       "    </tr>\n",
       "    <tr>\n",
       "      <th>62a7e0d4-7f5f-441a-95ec-637a954838bc</th>\n",
       "      <td>S2B_MSIL2A_20230103T110349_N0509_R094_T30TWN_2...</td>\n",
       "      <td>8.276797</td>\n",
       "    </tr>\n",
       "    <tr>\n",
       "      <th>5dcd99f6-2370-49d9-98b4-f24e2bf7215a</th>\n",
       "      <td>S2B_MSIL2A_20230103T110349_N0509_R094_T30TXN_2...</td>\n",
       "      <td>8.829433</td>\n",
       "    </tr>\n",
       "    <tr>\n",
       "      <th>7da18c4b-4ce2-42e7-8ace-776f53420230</th>\n",
       "      <td>S2A_MSIL2A_20230408T105621_N0509_R094_T30TXN_2...</td>\n",
       "      <td>9.601053</td>\n",
       "    </tr>\n",
       "  </tbody>\n",
       "</table>\n",
       "</div>"
      ],
      "text/plain": [
       "                                                                                  title  \\\n",
       "967c8759-80c3-48a9-adef-cbce8611cab8  S2B_MSIL2A_20230212T110059_N0509_R094_T30TXN_2...   \n",
       "629f4e9b-0dda-4992-ac6e-c0262e28c10e  S2B_MSIL2A_20230212T110059_N0509_R094_T30TWN_2...   \n",
       "a3cece7a-6b25-4203-9897-48b974e5a414  S2A_MSIL2A_20230217T110121_N0509_R094_T30TXN_2...   \n",
       "b903ee03-c77d-4056-92dd-4a7e47cdbff2  S2B_MSIL2A_20230202T110159_N0509_R094_T30TXN_2...   \n",
       "f59cd263-030f-4a51-b529-3f36d9e4c194  S2B_MSIL2A_20230202T110159_N0509_R094_T30TWN_2...   \n",
       "1391f05d-ecc4-40d6-8b42-0641479683a7  S2A_MSIL2A_20230217T110121_N0509_R094_T30TWN_2...   \n",
       "62a7e0d4-7f5f-441a-95ec-637a954838bc  S2B_MSIL2A_20230103T110349_N0509_R094_T30TWN_2...   \n",
       "5dcd99f6-2370-49d9-98b4-f24e2bf7215a  S2B_MSIL2A_20230103T110349_N0509_R094_T30TXN_2...   \n",
       "7da18c4b-4ce2-42e7-8ace-776f53420230  S2A_MSIL2A_20230408T105621_N0509_R094_T30TXN_2...   \n",
       "\n",
       "                                      cloudcoverpercentage  \n",
       "967c8759-80c3-48a9-adef-cbce8611cab8              0.911268  \n",
       "629f4e9b-0dda-4992-ac6e-c0262e28c10e              1.273938  \n",
       "a3cece7a-6b25-4203-9897-48b974e5a414              2.496120  \n",
       "b903ee03-c77d-4056-92dd-4a7e47cdbff2              2.760731  \n",
       "f59cd263-030f-4a51-b529-3f36d9e4c194              5.290278  \n",
       "1391f05d-ecc4-40d6-8b42-0641479683a7              7.154439  \n",
       "62a7e0d4-7f5f-441a-95ec-637a954838bc              8.276797  \n",
       "5dcd99f6-2370-49d9-98b4-f24e2bf7215a              8.829433  \n",
       "7da18c4b-4ce2-42e7-8ace-776f53420230              9.601053  "
      ]
     },
     "execution_count": 36,
     "metadata": {},
     "output_type": "execute_result"
    }
   ],
   "source": [
    "gdf_sorted[['title', 'cloudcoverpercentage']]"
   ]
  },
  {
   "cell_type": "code",
   "execution_count": 22,
   "id": "1cf1dffb",
   "metadata": {},
   "outputs": [
    {
     "data": {
      "text/plain": [
       "d6d1d704-40d2-4eec-b49c-4881a24cd740     1.970314\n",
       "26385414-265f-421a-8572-9223f16079fb     3.004637\n",
       "24e751ba-f3ed-473d-906a-4e8338e57dd6     5.275427\n",
       "6656eb77-79b7-4e70-89dc-d27c8c1322a2     8.020393\n",
       "f70c3d22-b083-4d13-b59e-7e6b3cdf12f5    14.050001\n",
       "Name: cloudcoverpercentage, dtype: float64"
      ]
     },
     "execution_count": 22,
     "metadata": {},
     "output_type": "execute_result"
    }
   ],
   "source": [
    "gdf_sorted['cloudcoverpercentage']"
   ]
  },
  {
   "cell_type": "code",
   "execution_count": 37,
   "id": "2596b353",
   "metadata": {},
   "outputs": [
    {
     "data": {
      "text/plain": [
       "'967c8759-80c3-48a9-adef-cbce8611cab8'"
      ]
     },
     "execution_count": 37,
     "metadata": {},
     "output_type": "execute_result"
    }
   ],
   "source": [
    "uuid = gdf_sorted.iloc[0]['uuid']\n",
    "uuid"
   ]
  },
  {
   "cell_type": "code",
   "execution_count": 24,
   "id": "8beb2f38",
   "metadata": {},
   "outputs": [
    {
     "name": "stdout",
     "output_type": "stream",
     "text": [
      "Help on method download in module sentinelsat.sentinel:\n",
      "\n",
      "download(id, directory_path='.', checksum=True, nodefilter=None) method of sentinelsat.sentinel.SentinelAPI instance\n",
      "    Download a product.\n",
      "    \n",
      "    Uses the filename on the server for the downloaded file, e.g.\n",
      "    \"S1A_EW_GRDH_1SDH_20141003T003840_20141003T003920_002658_002F54_4DD1.zip\".\n",
      "    \n",
      "    Incomplete downloads are continued and complete files are skipped.\n",
      "    \n",
      "    Parameters\n",
      "    ----------\n",
      "    id : string\n",
      "        UUID of the product, e.g. 'a8dd0cfd-613e-45ce-868c-d79177b916ed'\n",
      "    directory_path : string, optional\n",
      "        Where the file will be downloaded\n",
      "    checksum : bool, default True\n",
      "        If True, verify the downloaded file's integrity by checking its checksum.\n",
      "        Throws InvalidChecksumError if the checksum does not match.\n",
      "    nodefilter : callable, optional\n",
      "        The callable is used to select which files of each product will be downloaded.\n",
      "        If None (the default), the full products will be downloaded.\n",
      "        See :mod:`sentinelsat.products` for sample node filters.\n",
      "    \n",
      "    Returns\n",
      "    -------\n",
      "    product_info : dict\n",
      "        Dictionary containing the product's info from get_product_odata() as well as\n",
      "        the path on disk.\n",
      "    \n",
      "    Raises\n",
      "    ------\n",
      "    InvalidChecksumError\n",
      "        If the MD5 checksum does not match the checksum on the server.\n",
      "    LTATriggered\n",
      "        If the product has been archived and its retrieval was successfully triggered.\n",
      "    LTAError\n",
      "        If the product has been archived and its retrieval failed.\n",
      "\n"
     ]
    }
   ],
   "source": [
    "help(api.download)"
   ]
  },
  {
   "cell_type": "markdown",
   "id": "224117b5",
   "metadata": {},
   "source": [
    "### Download products"
   ]
  },
  {
   "cell_type": "code",
   "execution_count": 38,
   "id": "ec9da436",
   "metadata": {},
   "outputs": [
    {
     "data": {
      "application/vnd.jupyter.widget-view+json": {
       "model_id": "836e8e7568db4fceb7d370f6d16c727a",
       "version_major": 2,
       "version_minor": 0
      },
      "text/plain": [
       "Downloading S2B_MSIL2A_20230212T110059_N0509_R094_T30TXN_20230212T135411.zip:   0%|          | 0.00/1.25G [00:…"
      ]
     },
     "metadata": {},
     "output_type": "display_data"
    },
    {
     "data": {
      "application/vnd.jupyter.widget-view+json": {
       "model_id": "",
       "version_major": 2,
       "version_minor": 0
      },
      "text/plain": [
       "MD5 checksumming:   0%|          | 0.00/1.25G [00:00<?, ?B/s]"
      ]
     },
     "metadata": {},
     "output_type": "display_data"
    }
   ],
   "source": [
    "res = api.download(uuid, directory_path='./downloads/')"
   ]
  },
  {
   "cell_type": "markdown",
   "id": "65f7815a",
   "metadata": {},
   "source": [
    "### Extract products"
   ]
  },
  {
   "cell_type": "code",
   "execution_count": 39,
   "id": "4c3e5d16",
   "metadata": {},
   "outputs": [
    {
     "data": {
      "text/plain": [
       "'downloads/S2B_MSIL2A_20230212T110059_N0509_R094_T30TXN_20230212T135411.zip'"
      ]
     },
     "execution_count": 39,
     "metadata": {},
     "output_type": "execute_result"
    }
   ],
   "source": [
    "res['path']"
   ]
  },
  {
   "cell_type": "code",
   "execution_count": 40,
   "id": "a0d822a6",
   "metadata": {},
   "outputs": [],
   "source": [
    "import datetime\n",
    "import zipfile"
   ]
  },
  {
   "cell_type": "code",
   "execution_count": 41,
   "id": "acd4f87a",
   "metadata": {},
   "outputs": [],
   "source": [
    "with zipfile.ZipFile(res['path']) as zf:\n",
    "    zf.extractall(path='./downloads/')\n",
    "\n"
   ]
  },
  {
   "cell_type": "code",
   "execution_count": 42,
   "id": "cd810cc5",
   "metadata": {},
   "outputs": [],
   "source": [
    "from pathlib import Path"
   ]
  },
  {
   "cell_type": "code",
   "execution_count": 43,
   "id": "8406681f",
   "metadata": {},
   "outputs": [
    {
     "data": {
      "text/plain": [
       "PosixPath('/home/alabarga/Teaching/geospatial-python/workshops/siglibre-2023/notebooks')"
      ]
     },
     "execution_count": 43,
     "metadata": {},
     "output_type": "execute_result"
    }
   ],
   "source": [
    "Path.cwd()"
   ]
  },
  {
   "cell_type": "code",
   "execution_count": 44,
   "id": "c92eb9fc",
   "metadata": {},
   "outputs": [],
   "source": [
    "base_path = Path(res['path']).with_suffix('.SAFE')"
   ]
  },
  {
   "cell_type": "code",
   "execution_count": 45,
   "id": "ab00e842",
   "metadata": {},
   "outputs": [
    {
     "name": "stdout",
     "output_type": "stream",
     "text": [
      "downloads/S2B_MSIL2A_20230212T110059_N0509_R094_T30TXN_20230212T135411.SAFE/GRANULE/L2A_T30TXN_A031008_20230212T110111\n"
     ]
    }
   ],
   "source": [
    "for l in (base_path / 'GRANULE').iterdir():\n",
    "    print(l)"
   ]
  },
  {
   "cell_type": "markdown",
   "id": "dba2024b",
   "metadata": {},
   "source": [
    "### Extracting bands"
   ]
  },
  {
   "cell_type": "markdown",
   "id": "58f838fb",
   "metadata": {},
   "source": [
    "![](https://sentinels.copernicus.eu/image/image_gallery?uuid=c5fa6c3e-2978-4fb8-ac95-3be9c5171be2&groupId=247904&t=1345630320883)"
   ]
  },
  {
   "cell_type": "code",
   "execution_count": 46,
   "id": "bb642fd8",
   "metadata": {},
   "outputs": [],
   "source": [
    "bands = next((Path.cwd() / Path(res['path']).with_suffix('.SAFE') / 'GRANULE').iterdir()) / 'IMG_DATA' / 'R10m'"
   ]
  },
  {
   "cell_type": "code",
   "execution_count": 48,
   "id": "02c80f0a",
   "metadata": {},
   "outputs": [],
   "source": [
    "import pandas as pd"
   ]
  },
  {
   "cell_type": "code",
   "execution_count": 51,
   "id": "6761e0a4",
   "metadata": {},
   "outputs": [],
   "source": [
    "band_names = pd.DataFrame(\n",
    "    [\n",
    "('B01','Ultra Blue'),\n",
    "('B02','Blue'),\n",
    "('B03','Green'),\n",
    "('B04','Red'),\n",
    "('B08','NIR')\n",
    "], columns=['band','name'])"
   ]
  },
  {
   "cell_type": "code",
   "execution_count": 52,
   "id": "5fc75853",
   "metadata": {},
   "outputs": [
    {
     "data": {
      "text/html": [
       "<div>\n",
       "<style scoped>\n",
       "    .dataframe tbody tr th:only-of-type {\n",
       "        vertical-align: middle;\n",
       "    }\n",
       "\n",
       "    .dataframe tbody tr th {\n",
       "        vertical-align: top;\n",
       "    }\n",
       "\n",
       "    .dataframe thead th {\n",
       "        text-align: right;\n",
       "    }\n",
       "</style>\n",
       "<table border=\"1\" class=\"dataframe\">\n",
       "  <thead>\n",
       "    <tr style=\"text-align: right;\">\n",
       "      <th></th>\n",
       "      <th>band</th>\n",
       "      <th>name</th>\n",
       "    </tr>\n",
       "  </thead>\n",
       "  <tbody>\n",
       "    <tr>\n",
       "      <th>0</th>\n",
       "      <td>B01</td>\n",
       "      <td>Ultra Blue</td>\n",
       "    </tr>\n",
       "    <tr>\n",
       "      <th>1</th>\n",
       "      <td>B02</td>\n",
       "      <td>Blue</td>\n",
       "    </tr>\n",
       "    <tr>\n",
       "      <th>2</th>\n",
       "      <td>B03</td>\n",
       "      <td>Green</td>\n",
       "    </tr>\n",
       "    <tr>\n",
       "      <th>3</th>\n",
       "      <td>B04</td>\n",
       "      <td>Red</td>\n",
       "    </tr>\n",
       "    <tr>\n",
       "      <th>4</th>\n",
       "      <td>B08</td>\n",
       "      <td>NIR</td>\n",
       "    </tr>\n",
       "  </tbody>\n",
       "</table>\n",
       "</div>"
      ],
      "text/plain": [
       "  band        name\n",
       "0  B01  Ultra Blue\n",
       "1  B02        Blue\n",
       "2  B03       Green\n",
       "3  B04         Red\n",
       "4  B08         NIR"
      ]
     },
     "execution_count": 52,
     "metadata": {},
     "output_type": "execute_result"
    }
   ],
   "source": [
    "band_names"
   ]
  },
  {
   "cell_type": "code",
   "execution_count": 53,
   "id": "487fae0a",
   "metadata": {},
   "outputs": [],
   "source": [
    "blue_band = [l for l in bands.iterdir() if '_B02_' in l.name][0]\n",
    "green_band = [l for l in bands.iterdir() if '_B03_' in l.name][0]\n",
    "red_band = [l for l in bands.iterdir() if '_B04_' in l.name][0]\n",
    "nir_band = [l for l in bands.iterdir() if '_B08_' in l.name][0]"
   ]
  },
  {
   "cell_type": "code",
   "execution_count": 58,
   "id": "6a64a9b6",
   "metadata": {},
   "outputs": [],
   "source": [
    "blue = rasterio.open(blue_band, driver='JP2OpenJPEG') \n",
    "green = rasterio.open(green_band, driver='JP2OpenJPEG') \n",
    "red = rasterio.open(red_band, driver='JP2OpenJPEG') \n",
    "nir = rasterio.open(nir_band, driver='JP2OpenJPEG')"
   ]
  },
  {
   "cell_type": "code",
   "execution_count": 59,
   "id": "58196164",
   "metadata": {},
   "outputs": [],
   "source": [
    "with rasterio.open(f'{name}.tiff','w',\n",
    "                   driver='Gtiff', \n",
    "                   width=blue.width, \n",
    "                   height=blue.height, \n",
    "                   count=3, crs=blue.crs,\n",
    "                   transform=blue.transform, \n",
    "                   dtype=blue.dtypes[0]) as rgb:\n",
    "    rgb.write(blue.read(1),3) \n",
    "    rgb.write(green.read(1),2) \n",
    "    rgb.write(red.read(1),1) \n",
    "    rgb.close()"
   ]
  },
  {
   "cell_type": "code",
   "execution_count": 63,
   "id": "61715c11",
   "metadata": {},
   "outputs": [
    {
     "data": {
      "text/plain": [
       "CRS.from_epsg(32630)"
      ]
     },
     "execution_count": 63,
     "metadata": {},
     "output_type": "execute_result"
    }
   ],
   "source": [
    "check_crs = rasterio.open(f'{name}.tiff').crs\n",
    "check_crs"
   ]
  },
  {
   "cell_type": "code",
   "execution_count": 65,
   "id": "2384c61c",
   "metadata": {
    "scrolled": true
   },
   "outputs": [],
   "source": [
    "bound_crs = boundary.to_crs(check_crs)"
   ]
  },
  {
   "cell_type": "code",
   "execution_count": 67,
   "id": "883d23cc",
   "metadata": {},
   "outputs": [],
   "source": [
    "with rasterio.open(f\"{name}.tiff\") as src:\n",
    "    out_image, out_transform = mask(src,\n",
    "    bound_crs.geometry,crop=True)\n",
    "    out_meta = src.meta.copy()\n",
    "    out_meta.update({\"driver\": \"GTiff\",\n",
    "                 \"height\": out_image.shape[1],\n",
    "                 \"width\": out_image.shape[2],\n",
    "                 \"transform\": out_transform})"
   ]
  },
  {
   "cell_type": "code",
   "execution_count": 68,
   "id": "1ddfaba0",
   "metadata": {},
   "outputs": [],
   "source": [
    "with rasterio.open(f\"{name}_masked.tif\", \"w\", **out_meta) as final:\n",
    "    final.write(out_image)"
   ]
  },
  {
   "cell_type": "code",
   "execution_count": null,
   "id": "f1e324de",
   "metadata": {},
   "outputs": [],
   "source": [
    "src = rasterio.open(f'{name}_masked.tif')\n",
    "plt.figure(figsize=(10,10))\n",
    "plt.title('Final Image')\n",
    "plot.show(src, adjust='linear')"
   ]
  },
  {
   "cell_type": "markdown",
   "id": "c2dce95b",
   "metadata": {},
   "source": [
    "- https://github.com/sorabatake/article_9987_SentinelAPI"
   ]
  },
  {
   "cell_type": "code",
   "execution_count": 71,
   "id": "0b4ccc26",
   "metadata": {},
   "outputs": [],
   "source": [
    "from osgeo import gdal"
   ]
  },
  {
   "cell_type": "code",
   "execution_count": 72,
   "id": "2919d7c1",
   "metadata": {},
   "outputs": [
    {
     "data": {
      "text/plain": [
       "<osgeo.gdal.Dataset; proxy of <Swig Object of type 'GDALDatasetShadow *' at 0x7f82162e25e0> >"
      ]
     },
     "execution_count": 72,
     "metadata": {},
     "output_type": "execute_result"
    }
   ],
   "source": [
    "scale = '-scale 0 250 0 30'\n",
    "options_list = [\n",
    "    '-ot Byte',\n",
    "    '-of JPEG',\n",
    "    scale\n",
    "] \n",
    "options_string = \" \".join(options_list)\n",
    "\n",
    "gdal.Translate(f'{name}_masked.jpg',\n",
    "               f'{name}_masked.tif',\n",
    "               options=options_string)\n",
    "\n"
   ]
  },
  {
   "cell_type": "code",
   "execution_count": null,
   "id": "50cba376",
   "metadata": {},
   "outputs": [],
   "source": [
    "from PIL import Image\n",
    "im = Image.open(f'{name}_masked.jpg')\n",
    "im\n",
    "\n"
   ]
  }
 ],
 "metadata": {
  "interpreter": {
   "hash": "a58eddd17ebc75d5380160d068b2973b20943a24de4dd937480440c19800b965"
  },
  "kernelspec": {
   "display_name": "siglibre",
   "language": "python",
   "name": "siglibre"
  },
  "language_info": {
   "codemirror_mode": {
    "name": "ipython",
    "version": 3
   },
   "file_extension": ".py",
   "mimetype": "text/x-python",
   "name": "python",
   "nbconvert_exporter": "python",
   "pygments_lexer": "ipython3",
   "version": "3.10.6"
  },
  "toc": {
   "base_numbering": 1,
   "nav_menu": {},
   "number_sections": true,
   "sideBar": true,
   "skip_h1_title": false,
   "title_cell": "Table of Contents",
   "title_sidebar": "Contents",
   "toc_cell": true,
   "toc_position": {},
   "toc_section_display": true,
   "toc_window_display": false
  },
  "varInspector": {
   "cols": {
    "lenName": 16,
    "lenType": 16,
    "lenVar": 40
   },
   "kernels_config": {
    "python": {
     "delete_cmd_postfix": "",
     "delete_cmd_prefix": "del ",
     "library": "var_list.py",
     "varRefreshCmd": "print(var_dic_list())"
    },
    "r": {
     "delete_cmd_postfix": ") ",
     "delete_cmd_prefix": "rm(",
     "library": "var_list.r",
     "varRefreshCmd": "cat(var_dic_list()) "
    }
   },
   "types_to_exclude": [
    "module",
    "function",
    "builtin_function_or_method",
    "instance",
    "_Feature"
   ],
   "window_display": false
  }
 },
 "nbformat": 4,
 "nbformat_minor": 5
}
