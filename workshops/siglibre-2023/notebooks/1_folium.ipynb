{
 "cells": [
  {
   "cell_type": "code",
   "execution_count": null,
   "metadata": {},
   "outputs": [],
   "source": [
    "import folium as fl\n",
    "import pandas as pd\n",
    "import geopandas as gpd"
   ]
  },
  {
   "cell_type": "code",
   "execution_count": null,
   "metadata": {},
   "outputs": [],
   "source": [
    "import sys"
   ]
  },
  {
   "cell_type": "markdown",
   "metadata": {},
   "source": [
    "## Geocoding"
   ]
  },
  {
   "cell_type": "code",
   "execution_count": null,
   "metadata": {},
   "outputs": [],
   "source": [
    "from geopy.geocoders import Nominatim\n",
    "\n",
    "def geocode(city):\n",
    "    geolocator = Nominatim(user_agent=\"ironhack\")\n",
    "    location = geolocator.geocode(city)\n",
    "    latitude = location.latitude\n",
    "    longitude = location.longitude\n",
    "    return (latitude, longitude)\n",
    "    \n"
   ]
  },
  {
   "cell_type": "code",
   "execution_count": null,
   "metadata": {},
   "outputs": [],
   "source": [
    "city = \"Girona, Spain\"\n",
    "coords = geocode(city)\n",
    "coords"
   ]
  },
  {
   "cell_type": "code",
   "execution_count": null,
   "metadata": {},
   "outputs": [],
   "source": [
    "city = \"Cañas, Costa Rica\"\n",
    "coords = geocode(city)\n",
    "coords"
   ]
  },
  {
   "cell_type": "code",
   "execution_count": null,
   "metadata": {},
   "outputs": [],
   "source": [
    "fl.Map(location=coords)"
   ]
  },
  {
   "cell_type": "code",
   "execution_count": null,
   "metadata": {},
   "outputs": [],
   "source": [
    "m = fl.Map(location=coords)\n",
    "marker = fl.Marker(location=coords, draggable=False)\n",
    "marker.add_to(m)\n",
    "m"
   ]
  },
  {
   "cell_type": "markdown",
   "metadata": {},
   "source": [
    "## Choropleth"
   ]
  },
  {
   "cell_type": "code",
   "execution_count": null,
   "metadata": {},
   "outputs": [],
   "source": [
    "coords = [40.409120, -3.700144]"
   ]
  },
  {
   "cell_type": "code",
   "execution_count": null,
   "metadata": {},
   "outputs": [],
   "source": [
    "mapa = gpd.read_file('../data/provincias.geojson')\n",
    "natalidad = pd.read_csv('../data/natalidad.csv')"
   ]
  },
  {
   "cell_type": "code",
   "execution_count": null,
   "metadata": {},
   "outputs": [],
   "source": [
    "m = fl.Map(location=coords, zoom_start=6)"
   ]
  },
  {
   "cell_type": "code",
   "execution_count": null,
   "metadata": {},
   "outputs": [],
   "source": [
    "municipios_file = '../data/divisions-administratives-v2r1-municipis-1000000-20230511.json'\n",
    "municipios = gpd.read_file(municipios_file)\n",
    "municipios"
   ]
  },
  {
   "cell_type": "code",
   "execution_count": null,
   "metadata": {},
   "outputs": [],
   "source": [
    "import numpy as np"
   ]
  },
  {
   "cell_type": "code",
   "execution_count": null,
   "metadata": {},
   "outputs": [],
   "source": [
    "datos = municipios[['CODIMUNI']]\n",
    "datos['valor'] = np.random.random(len(municipios))"
   ]
  },
  {
   "cell_type": "code",
   "execution_count": null,
   "metadata": {},
   "outputs": [],
   "source": [
    "datos"
   ]
  },
  {
   "cell_type": "code",
   "execution_count": null,
   "metadata": {},
   "outputs": [],
   "source": [
    "\n",
    "fl.Choropleth(\n",
    "    geo_data=municipios,\n",
    "    name='choropleth',\n",
    "    data=datos,\n",
    "    columns=['CODIMUNI', 'valor'],\n",
    "    key_on='feature.properties.CODIMUNI',\n",
    "    fill_color='YlGn',\n",
    "    fill_opacity=0.7,\n",
    "    line_opacity=0.2,\n",
    "    legend_name='Tasa de natalidad (%)'\n",
    ").add_to(m)\n",
    "display(m)"
   ]
  },
  {
   "cell_type": "code",
   "execution_count": null,
   "metadata": {},
   "outputs": [],
   "source": [
    "municipios = pd.read_csv('data/municipios.csv')\n",
    "municipios.Longitud = capitales.Longitud.str.replace(',','.').astype('float')\n",
    "municipios.Latitud = capitales.Latitud.str.replace(',','.').astype('float')\n",
    "capitales = municipios.get(municipios.Capital=='Si')"
   ]
  },
  {
   "cell_type": "code",
   "execution_count": null,
   "metadata": {},
   "outputs": [],
   "source": [
    "municipios.sort_values('AREAM5000', ascending=False).head(10)"
   ]
  },
  {
   "cell_type": "code",
   "execution_count": null,
   "metadata": {},
   "outputs": [],
   "source": [
    "selected = municipios.sort_values('AREAM5000', ascending=False).head(10)"
   ]
  },
  {
   "cell_type": "code",
   "execution_count": null,
   "metadata": {},
   "outputs": [],
   "source": [
    "m = fl.Map(location=[40.409120, -3.700144], zoom_start=6)\n",
    "for _,row in selected.iterrows():\n",
    "    fl.Marker([row.geometry.centroid.y, row.geometry.centroid.x], popup=row['AREAM5000']).add_to(m)\n",
    "    \n",
    "for _, row in selected.iterrows():\n",
    "    # Without simplifying the representation of each borough,\n",
    "    # the map might not be displayed\n",
    "    sim_geo = gpd.GeoSeries(row[\"geometry\"]).simplify(tolerance=0.001)\n",
    "    geo_j = sim_geo.to_json()\n",
    "    geo_j = fl.GeoJson(data=geo_j, style_function=lambda x: {\"fillColor\": \"orange\"})\n",
    "    geo_j.add_to(m)\n",
    "display(m)"
   ]
  },
  {
   "cell_type": "markdown",
   "metadata": {},
   "source": [
    "https://stacindex.org/catalogs/catalonia-monthly-sentinel2#/?t=1"
   ]
  },
  {
   "cell_type": "code",
   "execution_count": null,
   "metadata": {},
   "outputs": [],
   "source": [
    "import rasterio as rio\n",
    "\n",
    "\n",
    "img_file = \"../img/ortoimatge-sentinel2-mensual-v1r0-rgb8b-202305.tif\"\n"
   ]
  },
  {
   "cell_type": "code",
   "execution_count": null,
   "metadata": {},
   "outputs": [],
   "source": [
    "with rio.open(img_file) as src:\n",
    "    img = src.read()\n",
    "    src_crs = src.crs['init'].upper()\n",
    "    min_lon, min_lat, max_lon, max_lat = src.bounds"
   ]
  },
  {
   "cell_type": "code",
   "execution_count": null,
   "metadata": {},
   "outputs": [],
   "source": [
    "src_crs"
   ]
  },
  {
   "cell_type": "code",
   "execution_count": null,
   "metadata": {},
   "outputs": [],
   "source": [
    "dst_crs = 'EPSG:4326'"
   ]
  },
  {
   "cell_type": "code",
   "execution_count": null,
   "metadata": {},
   "outputs": [],
   "source": [
    "src.bounds"
   ]
  },
  {
   "cell_type": "code",
   "execution_count": null,
   "metadata": {},
   "outputs": [],
   "source": [
    "from rasterio.enums import Resampling\n",
    "\n",
    "upscale_factor = 1/4\n",
    "\n",
    "with rio.open(img_file) as dataset:\n",
    "\n",
    "    # resample data to target shape\n",
    "    img = dataset.read(\n",
    "        out_shape=(\n",
    "            dataset.count,\n",
    "            int(dataset.height * upscale_factor),\n",
    "            int(dataset.width * upscale_factor)\n",
    "        ),\n",
    "        resampling=Resampling.bilinear\n",
    "    )\n",
    "\n",
    "    # scale image transform\n",
    "    transform = dataset.transform * dataset.transform.scale(\n",
    "        (dataset.width / data.shape[-1]),\n",
    "        (dataset.height / data.shape[-2])\n",
    "    )\n",
    "\n",
    "    src_crs = dataset.crs['init'].upper()\n",
    "    min_lon, min_lat, max_lon, max_lat = dataset.bounds"
   ]
  },
  {
   "cell_type": "code",
   "execution_count": null,
   "metadata": {},
   "outputs": [],
   "source": [
    "img.shape"
   ]
  },
  {
   "cell_type": "code",
   "execution_count": null,
   "metadata": {},
   "outputs": [],
   "source": [
    "transform"
   ]
  },
  {
   "cell_type": "code",
   "execution_count": null,
   "metadata": {},
   "outputs": [],
   "source": [
    "from rasterio.plot import show\n"
   ]
  },
  {
   "cell_type": "code",
   "execution_count": null,
   "metadata": {},
   "outputs": [],
   "source": [
    "## Conversion from UTM to WGS84 CRS\n",
    "\n",
    "from pyproj import Transformer \n",
    "\n",
    "bounds_orig = [[min_lat, min_lon], [max_lat, max_lon]]\n",
    "\n",
    "bounds_fin = []\n",
    " \n",
    "for item in bounds_orig:   \n",
    "    #converting to lat/lon\n",
    "    lat = item[0]\n",
    "    lon = item[1]\n",
    "    \n",
    "    proj = Transformer.from_crs(int(src_crs.split(\":\")[1]), int(dst_crs.split(\":\")[1]), always_xy=True)\n",
    "\n",
    "    lon_n, lat_n = proj.transform(lon, lat)\n",
    "    \n",
    "    bounds_fin.append([lat_n, lon_n])\n",
    "\n",
    "# Finding the centre latitude & longitude    \n",
    "centre_lon = bounds_fin[0][1] + (bounds_fin[1][1] - bounds_fin[0][1])/2\n",
    "centre_lat = bounds_fin[0][0] + (bounds_fin[1][0] - bounds_fin[0][0])/2"
   ]
  },
  {
   "cell_type": "code",
   "execution_count": null,
   "metadata": {},
   "outputs": [],
   "source": [
    "bounds_fin"
   ]
  },
  {
   "cell_type": "code",
   "execution_count": null,
   "metadata": {},
   "outputs": [],
   "source": [
    "import numpy as np"
   ]
  },
  {
   "cell_type": "code",
   "execution_count": null,
   "metadata": {},
   "outputs": [],
   "source": [
    "m = fl.Map(location=[centre_lat, centre_lon], zoom_start = 6)\n",
    "\n",
    "# img.transpose(1, 2, 0)\n",
    "# np.moveaxis(img, 0, -1)\n",
    "\n",
    "# Overlay raster using add_child() function\n",
    "m.add_child(fl.raster_layers.ImageOverlay(np.moveaxis(img, 0, -1), \n",
    "                                          opacity=1, \n",
    "                                          bounds = bounds_fin)\n",
    "           )\n",
    "\n",
    "# Display map \n",
    "m"
   ]
  },
  {
   "cell_type": "code",
   "execution_count": null,
   "metadata": {},
   "outputs": [],
   "source": [
    "m = fl.Map(location=[40.409120, -3.700144], zoom_start=6)\n",
    "\n",
    "image = fl.raster_layers.ImageOverlay(\n",
    "        name=\"Sentinel\",\n",
    "        image = img, \n",
    "        bounds=[[25, -180], [80, 180]],\n",
    "        interactive=True,\n",
    "        zindex=1,\n",
    "    )\n",
    "\n",
    "image.add_to(m) "
   ]
  },
  {
   "cell_type": "code",
   "execution_count": null,
   "metadata": {},
   "outputs": [],
   "source": []
  }
 ],
 "metadata": {
  "kernelspec": {
   "display_name": "tacticaltech",
   "language": "python",
   "name": "tacticaltech"
  },
  "language_info": {
   "codemirror_mode": {
    "name": "ipython",
    "version": 3
   },
   "file_extension": ".py",
   "mimetype": "text/x-python",
   "name": "python",
   "nbconvert_exporter": "python",
   "pygments_lexer": "ipython3",
   "version": "3.10.6"
  }
 },
 "nbformat": 4,
 "nbformat_minor": 4
}
