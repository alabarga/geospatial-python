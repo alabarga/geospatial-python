{
 "cells": [
  {
   "cell_type": "markdown",
   "metadata": {},
   "source": [
    "Teledetección y Python para analizar los efectos de la COVID-19"
   ]
  },
  {
   "cell_type": "markdown",
   "metadata": {},
   "source": [
    "La reducción de la mobilidad y la actividad económica durante la pandemia de la COVID-19 ha provocado también una reducción significativa de las emisiones de NO2 a la atmósfera. Utilizando técnicas de teledetección y algunas librerías en Python, podemos analizar los efectos de la COVID-19 en base a la reducción de estos gases contaminantes."
   ]
  },
  {
   "cell_type": "markdown",
   "metadata": {},
   "source": [
    "Datos de partida\n",
    "El satélite Sentinel-5p de la Agencia Espacial Europea lleva a bordo el sensor TROPOMI. Este sensor permite monitorizar concentraciones de gases como el ozono, el metano, el monóxido de carbono, el dióxido de nitrógeno o el óxido de azufre.\n",
    "\n",
    "En esta ocasión nos centraremos en el dióxido de nitrógeno (NO2). Se trata de un gas generado fundamentalmente por la actividad humana, como resultado de la combustión de los vehículos y determinados procesos industriales.\n",
    "\n",
    "Con una resolución espacial de unos 7kmx7km, Sentinel-5p cubre diariamente toda la superfície terrestre. De este modo puede hacerse un seguimiento exhaustivo de la evolución de estos gases, y analizar episodios muy concretos como el producido durante la pandemia.\n",
    "\n",
    "A través de esta aplicación (https://maps.s5p-pal.com/) desarrollada por la ESA y en base a los datos de Sentinel-5p puede visualizarse como evoluciona la concentración de NO2 en todo el planeta."
   ]
  },
  {
   "cell_type": "markdown",
   "metadata": {},
   "source": [
    "![NO2 concentration](https://www.unigis.es/wp-content/uploads/2020/07/sentinel5-p_no2.png)"
   ]
  },
  {
   "cell_type": "markdown",
   "metadata": {},
   "source": [
    "En esta ocasión utilizaremos la API de Copernicus Open Acces Hub junto con la librería Python Sentinelsat para obtener las imágenes que necesitamos."
   ]
  },
  {
   "cell_type": "markdown",
   "metadata": {},
   "source": [
    "Tal y como ya hemos comentado, para la búsqueda y obtención de las imágenes utilizaremos la librería Sentinelsat. El procesado y la visualización lo haremos utilizando las librerías HARP y VISAN respectivamente. Ambas forman parte de Atmospheric Toolbox, un paquete de librerías para facilitar a científicos el consumo, procesado y análisis de datos atmosféricos obtenidos con técnicas de teledetección."
   ]
  },
  {
   "cell_type": "code",
   "execution_count": 4,
   "metadata": {},
   "outputs": [
    {
     "name": "stdout",
     "output_type": "stream",
     "text": [
      "Collecting sentinelsat\n",
      "  Using cached sentinelsat-0.14-py2.py3-none-any.whl (36 kB)\n",
      "Requirement already satisfied: click in /Users/alberto/.local/share/virtualenvs/notebooks-LWRlkxsC/lib/python3.7/site-packages (from sentinelsat) (7.1.2)\n",
      "Collecting geojson>=2\n",
      "  Downloading geojson-2.5.0-py2.py3-none-any.whl (14 kB)\n",
      "Requirement already satisfied: requests in /Users/alberto/.local/share/virtualenvs/notebooks-LWRlkxsC/lib/python3.7/site-packages (from sentinelsat) (2.24.0)\n",
      "Requirement already satisfied: tqdm in /Users/alberto/.local/share/virtualenvs/notebooks-LWRlkxsC/lib/python3.7/site-packages (from sentinelsat) (4.48.2)\n",
      "Requirement already satisfied: six in /Users/alberto/.local/share/virtualenvs/notebooks-LWRlkxsC/lib/python3.7/site-packages (from sentinelsat) (1.15.0)\n",
      "Collecting html2text\n",
      "  Downloading html2text-2020.1.16-py3-none-any.whl (32 kB)\n",
      "Collecting geomet\n",
      "  Downloading geomet-0.2.1.post1-py3-none-any.whl (18 kB)\n",
      "Requirement already satisfied: certifi>=2017.4.17 in /Users/alberto/.local/share/virtualenvs/notebooks-LWRlkxsC/lib/python3.7/site-packages (from requests->sentinelsat) (2020.6.20)\n",
      "Requirement already satisfied: urllib3!=1.25.0,!=1.25.1,<1.26,>=1.21.1 in /Users/alberto/.local/share/virtualenvs/notebooks-LWRlkxsC/lib/python3.7/site-packages (from requests->sentinelsat) (1.25.10)\n",
      "Requirement already satisfied: idna<3,>=2.5 in /Users/alberto/.local/share/virtualenvs/notebooks-LWRlkxsC/lib/python3.7/site-packages (from requests->sentinelsat) (2.10)\n",
      "Requirement already satisfied: chardet<4,>=3.0.2 in /Users/alberto/.local/share/virtualenvs/notebooks-LWRlkxsC/lib/python3.7/site-packages (from requests->sentinelsat) (3.0.4)\n",
      "Installing collected packages: geojson, html2text, geomet, sentinelsat\n",
      "Successfully installed geojson-2.5.0 geomet-0.2.1.post1 html2text-2020.1.16 sentinelsat-0.14\n"
     ]
    }
   ],
   "source": [
    "!pip install sentinelsat"
   ]
  },
  {
   "cell_type": "markdown",
   "metadata": {},
   "source": [
    "Descarga de datos con Sentinelsat\n",
    "Sentinelsat es una librería que facilita la búsqueda, filtrado y descarga de las imágenes del programa Copernicus disponibles en el repositorio de Copernicus Open Acces Hub. La conexión con el repositorio de imágenes Sentinel 5p a partir de la cuenta genérica se hará del siguiente modo:"
   ]
  },
  {
   "cell_type": "code",
   "execution_count": 1,
   "metadata": {},
   "outputs": [],
   "source": [
    "from sentinelsat import SentinelAPI, read_geojson, geojson_to_wkt"
   ]
  },
  {
   "cell_type": "code",
   "execution_count": 2,
   "metadata": {},
   "outputs": [],
   "source": [
    "from datetime import date, datetime, timedelta"
   ]
  },
  {
   "cell_type": "code",
   "execution_count": 8,
   "metadata": {},
   "outputs": [],
   "source": [
    "api = SentinelAPI('s5pguest', 's5pguest', 'https://s5phub.copernicus.eu/dhus')"
   ]
  },
  {
   "cell_type": "code",
   "execution_count": 5,
   "metadata": {
    "scrolled": true
   },
   "outputs": [],
   "source": [
    "# indicamos el bbox de la zona de descarga\n",
    "footprint = geojson_to_wkt(read_geojson('../data/bbox_spain.geojson'))"
   ]
  },
  {
   "cell_type": "code",
   "execution_count": 6,
   "metadata": {},
   "outputs": [],
   "source": [
    "footprint = geojson_to_wkt(read_geojson('../data/bbox_london.geojson'))"
   ]
  },
  {
   "cell_type": "code",
   "execution_count": 9,
   "metadata": {},
   "outputs": [
    {
     "data": {
      "application/vnd.jupyter.widget-view+json": {
       "model_id": "24a324f615b54a4cadaa187bd4295683",
       "version_major": 2,
       "version_minor": 0
      },
      "text/plain": [
       "Querying products:  29%|##8       | 100/350 [00:00<?, ?product/s]"
      ]
     },
     "metadata": {},
     "output_type": "display_data"
    }
   ],
   "source": [
    "products = api.query(footprint,\n",
    "                      date=(date(2020, 2, 2), date(2020, 5, 8)),\n",
    "                      producttype='L2__NO2___',\n",
    "                      platformname='Sentinel-5')"
   ]
  },
  {
   "cell_type": "code",
   "execution_count": 11,
   "metadata": {},
   "outputs": [],
   "source": [
    "def cambiar_extension():\n",
    "    \"\"\"\n",
    "    Función para cambiar la extensión de las escenas\n",
    "    (de .zip a .nc)\n",
    "    \"\"\"\n",
    "\n",
    "    for filename in os.listdir(os.path.dirname(os.path.abspath(__file__))):\n",
    "        base_file, ext = os.path.splitext(filename)\n",
    "        if ext == \".zip\":\n",
    "            os.rename(filename, base_file + \".nc\")"
   ]
  },
  {
   "cell_type": "code",
   "execution_count": 13,
   "metadata": {},
   "outputs": [],
   "source": [
    "def mosaico_escenas(nombre_nc):\n",
    "    \"\"\"\n",
    "    Función para crear un mosaico de productos\n",
    "    \"\"\"\n",
    "\n",
    "    # Buscamos en el directorio los productos S5P\n",
    "\n",
    "    file_names = []\n",
    "    products = [] # array con los productos a juntar\n",
    "\n",
    "    print(\"Importar productos a HARP\")\n",
    "\n",
    "\n",
    "    i = 0\n",
    "    for filename in os.listdir(os.path.dirname(os.path.abspath(__file__))):\n",
    "        base_file, ext = os.path.splitext(filename)\n",
    "\n",
    "        if ext == \".nc\" and base_file.split('_')[0] == 'S5P':\n",
    "            product_name = base_file + \"_\" + str(i)\n",
    "\n",
    "            try:\n",
    "                product_name = harp.import_product(base_file + ext,\n",
    "                                                    operations=\"latitude > -55 [degree_north]; latitude < 80 [degree_north]; tropospheric_NO2_column_number_density_validity > 75;bin_spatial(231,-55,0.5,721,-180,0.5)\",\n",
    "                                                    post_operations=\"bin();squash(time, (latitude,longitude))\")\n",
    "                print(\"Producto \" + base_file + ext + \" importado\")\n",
    "\n",
    "                products.append(product_name)\n",
    "            except:\n",
    "                print (\"Producto no importado\")\n",
    "\n",
    "            i = i + 1\n",
    "\n",
    "\n",
    "    try:\n",
    "        print(\"Ejecutando operación de unión\")\n",
    "        product_bin = harp.execute_operations(products, \"\", \"bin()\")\n",
    "        #harp.export_product(product_bin, file_names[0].split('_')[8]+\".nc\")\n",
    "\n",
    "        print(\"Exportar producto unido\")\n",
    "        harp.export_product(product_bin, str(nombre_nc)+\".nc\")\n",
    "\n",
    "    except:\n",
    "        print(\"No se ha podido realizar la unión\")\n",
    "\n",
    "\n",
    "    # Borramos los archivos originales, para no ocupar tanta memoria\n",
    "\n",
    "\n",
    "\n",
    "    for filename in os.listdir(os.path.dirname(os.path.abspath(__file__))):\n",
    "        base_file, ext = os.path.splitext(filename)\n",
    "\n",
    "        if ext == \".nc\" and base_file.split('_')[0] == 'S5P':\n",
    "            os.remove(base_file + ext)\n"
   ]
  },
  {
   "cell_type": "code",
   "execution_count": 14,
   "metadata": {},
   "outputs": [],
   "source": [
    "def descarga_datos(grupo_dias, parametros_acceso, bbox):\n",
    "    \"\"\"Función para la descarga de datos.\n",
    "    Keyword arguments:\n",
    "    grupo_dias -- se hará la media del grupo de dias definido\n",
    "    parametros_acceso -- credenciales y url acceso al repositorio de imágenes\n",
    "    bbox -- área de busqueda de las imagenes\n",
    "    \"\"\"\n",
    "\n",
    "\n",
    "    dia_inicio = date(2019, 12, 23)  # fecha inicio\n",
    "    dia_final = date(2020, 6, 29)   # fecha final\n",
    "\n",
    "    numero_grupo = 1\n",
    "\n",
    "    while dia_inicio <= dia_final:\n",
    "\n",
    "        # se realizará una búsqueda por área, fecha y producto\n",
    "        products = parametros_acceso.query(bbox,\n",
    "                             date=(dia_inicio, dia_inicio + timedelta(grupo_dias)),\n",
    "                             producttype='L2__NO2___',\n",
    "                             platformname='Sentinel-5')\n",
    "\n",
    "        # mostramos por pantalla los productos encontrados\n",
    "        #print(products)\n",
    "\n",
    "        dia_inicio = dia_inicio + timedelta(grupo_dias)\n",
    "\n",
    "        try:\n",
    "            # iniciamos la descarga de los productos encontrados\n",
    "            api.download_all(products)\n",
    "\n",
    "            # una vez descargadas las imagenes, renombramos los archivos\n",
    "            cambiar_extension()\n",
    "\n",
    "            # realizamos el mosaico de escenas\n",
    "            mosaico_escenas(dia_inicio - timedelta(grupo_dias))\n",
    "            numero_grupo = numero_grupo + 1\n",
    "\n",
    "        except:\n",
    "            print(\"Error en la descarga y/o ejecución del proceso\")\n",
    "\n",
    "\n",
    "# llamamos la función para la descarga de datos\n",
    "# descarga_datos(7, api, footprint)"
   ]
  },
  {
   "cell_type": "code",
   "execution_count": null,
   "metadata": {},
   "outputs": [],
   "source": []
  }
 ],
 "metadata": {
  "kernelspec": {
   "display_name": "siglibre",
   "language": "python",
   "name": "siglibre"
  },
  "language_info": {
   "codemirror_mode": {
    "name": "ipython",
    "version": 3
   },
   "file_extension": ".py",
   "mimetype": "text/x-python",
   "name": "python",
   "nbconvert_exporter": "python",
   "pygments_lexer": "ipython3",
   "version": "3.10.6"
  }
 },
 "nbformat": 4,
 "nbformat_minor": 4
}
